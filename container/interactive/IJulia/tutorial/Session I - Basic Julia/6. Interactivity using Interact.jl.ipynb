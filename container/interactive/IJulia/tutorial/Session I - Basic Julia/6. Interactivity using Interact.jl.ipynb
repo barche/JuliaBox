{
 "cells": [
  {
   "cell_type": "markdown",
   "metadata": {},
   "source": [
    "# Interactivity in IJulia using `Interact.jl`"
   ]
  },
  {
   "cell_type": "markdown",
   "metadata": {},
   "source": [
    "The `Interact.jl` package makes Jupyter's interactive widget functionality available from Julia."
   ]
  },
  {
   "cell_type": "markdown",
   "metadata": {},
   "source": [
    "[1] Load the `Interact` package."
   ]
  },
  {
   "cell_type": "markdown",
   "metadata": {},
   "source": [
    "The syntax to use widgets is to start with a `for` loop (that loops over the values of the variables that you would like to allow in the widgets) and wrap it in a `@manipulate` macro:"
   ]
  },
  {
   "cell_type": "markdown",
   "metadata": {},
   "source": [
    "[2] Write a simple `for` loop that evaluates the square of the loop counter, and wrap it in `@manipulate`.\n",
    "A widget should appear that enables you to interactively move a slider to change the displayed value.\n",
    "\n",
    "[3] Use the `html` function (part of `Interact.jl`) to display repeated text, where the number of repetitions depends on the loop argument.\n",
    "\n",
    "[4] Use a double `for` loop to get two sliders."
   ]
  },
  {
   "cell_type": "markdown",
   "metadata": {},
   "source": [
    "`Interact.jl` should work with `Gadfly` without further changes.\n",
    "\n",
    "To use `PyPlot`, it is necessary to first define a `figure` object with\n",
    "\n",
    "    f = figure()\n",
    "\n",
    "and then use the `withfig` function as\n",
    "\n",
    "    withfig(f) do\n",
    "        ...\n",
    "    end\n",
    "    \n",
    "inside the `@manipulate`d `for` loop.\n"
   ]
  },
  {
   "cell_type": "markdown",
   "metadata": {},
   "source": [
    "[5] Make an interactive visualisation of a quadratic function, in which you can manipulate all of the coefficients.\n",
    "\n",
    "[6] Make an interactive visualisation of a ball moving "
   ]
  },
  {
   "cell_type": "code",
   "execution_count": 4,
   "metadata": {},
   "outputs": [
    {
     "name": "stderr",
     "output_type": "stream",
     "text": [
      "WARNING: both Interact and Base export \"select\"; uses of it in module Main must be qualified\n"
     ]
    }
   ],
   "source": [
    "using Interact"
   ]
  },
  {
   "cell_type": "code",
   "execution_count": 6,
   "metadata": {},
   "outputs": [
    {
     "name": "stdout",
     "output_type": "stream",
     "text": [
      "1 4\n",
      "1 5\n",
      "1 6\n",
      "2 4\n",
      "2 5\n",
      "2 6\n",
      "3 4\n",
      "3 5\n",
      "3 6\n"
     ]
    }
   ],
   "source": [
    "for x=[1,2,3],y=[4,5,6]\n",
    "    println(\"$x $y\")\n",
    "end"
   ]
  },
  {
   "cell_type": "code",
   "execution_count": 13,
   "metadata": {},
   "outputs": [
    {
     "data": {
      "text/html": [],
      "text/plain": [
       "Interact.Options{:ToggleButtons,Int64}(25: \"input-9\" = 1 Int64 , \"x\", 1, \"1\", Interact.OptionDict(DataStructures.OrderedDict(\"1\"=>1,\"2\"=>2,\"3\"=>3), Dict(2=>\"2\",3=>\"3\",1=>\"1\")), Any[], Any[], true, \"horizontal\")"
      ]
     },
     "metadata": {},
     "output_type": "display_data"
    },
    {
     "data": {
      "text/html": [],
      "text/plain": [
       "Interact.Options{:ToggleButtons,Int64}(27: \"input-10\" = 4 Int64 , \"y\", 4, \"4\", Interact.OptionDict(DataStructures.OrderedDict(\"4\"=>4,\"5\"=>5,\"6\"=>6), Dict(4=>\"4\",5=>\"5\",6=>\"6\")), Any[], Any[], true, \"horizontal\")"
      ]
     },
     "metadata": {},
     "output_type": "display_data"
    },
    {
     "name": "stdout",
     "output_type": "stream",
     "text": [
      "1 4\n"
     ]
    },
    {
     "data": {
      "text/plain": [
       "nothing"
      ]
     },
     "execution_count": 13,
     "metadata": {
      "comm_id": "6d6c3972-945b-4d15-b9b4-381dc728a4c9",
      "reactive": true
     },
     "output_type": "execute_result"
    },
    {
     "name": "stdout",
     "output_type": "stream",
     "text": [
      "2 4\n",
      "2 5\n"
     ]
    }
   ],
   "source": [
    "@manipulate for x=[1,2,3],y=[4,5,6]\n",
    "    println(\"$x $y\")\n",
    "end"
   ]
  },
  {
   "cell_type": "code",
   "execution_count": 14,
   "metadata": {},
   "outputs": [
    {
     "name": "stderr",
     "output_type": "stream",
     "text": [
      "\u001b[1m\u001b[36mINFO: \u001b[39m\u001b[22m\u001b[36mRecompiling stale cache file /home/bjanssens/.julia/lib/v0.6/GR.ji for module GR.\n",
      "\u001b[39m"
     ]
    },
    {
     "data": {
      "text/plain": [
       "Plots.GRBackend()"
      ]
     },
     "execution_count": 14,
     "metadata": {},
     "output_type": "execute_result"
    }
   ],
   "source": [
    "using Plots\n",
    "gr()"
   ]
  },
  {
   "cell_type": "code",
   "execution_count": 16,
   "metadata": {},
   "outputs": [
    {
     "data": {
      "text/html": [],
      "text/plain": [
       "Interact.Options{:SelectionSlider,Float64}(37: \"input-13\" = 5.0 Float64 , \"f\", 5.0, \"5.0\", Interact.OptionDict(DataStructures.OrderedDict(\"0.0\"=>0.0,\"0.1\"=>0.1,\"0.2\"=>0.2,\"0.3\"=>0.3,\"0.4\"=>0.4,\"0.5\"=>0.5,\"0.6\"=>0.6,\"0.7\"=>0.7,\"0.8\"=>0.8,\"0.9\"=>0.9…), Dict(1.2=>\"1.2\",4.3=>\"4.3\",9.6=>\"9.6\",2.0=>\"2.0\",1.5=>\"1.5\",7.1=>\"7.1\",1.4=>\"1.4\",7.4=>\"7.4\",6.2=>\"6.2\",0.2=>\"0.2\"…)), Any[], Any[], true, \"horizontal\")"
      ]
     },
     "metadata": {},
     "output_type": "display_data"
    },
    {
     "data": {
      "text/html": [],
      "text/plain": [
       "Interact.Options{:SelectionSlider,Float64}(39: \"input-14\" = 2.5 Float64 , \"a\", 2.5, \"2.5\", Interact.OptionDict(DataStructures.OrderedDict(\"0.0\"=>0.0,\"0.1\"=>0.1,\"0.2\"=>0.2,\"0.3\"=>0.3,\"0.4\"=>0.4,\"0.5\"=>0.5,\"0.6\"=>0.6,\"0.7\"=>0.7,\"0.8\"=>0.8,\"0.9\"=>0.9…), Dict(1.2=>\"1.2\",4.3=>\"4.3\",2.0=>\"2.0\",1.5=>\"1.5\",1.4=>\"1.4\",0.2=>\"0.2\",3.5=>\"3.5\",4.9=>\"4.9\",0.3=>\"0.3\",2.2=>\"2.2\"…)), Any[], Any[], true, \"horizontal\")"
      ]
     },
     "metadata": {},
     "output_type": "display_data"
    },
    {
     "data": {
      "text/html": [
       "<?xml version=\"1.0\" encoding=\"utf-8\"?>\n",
       "<svg xmlns=\"http://www.w3.org/2000/svg\" xmlns:xlink=\"http://www.w3.org/1999/xlink\" width=\"600\" height=\"400\" viewBox=\"0 0 600 400\">\n",
       "<defs>\n",
       "  <clipPath id=\"clip00\">\n",
       "    <rect x=\"0\" y=\"0\" width=\"600\" height=\"400\"/>\n",
       "  </clipPath>\n",
       "</defs>\n",
       "<polygon clip-path=\"url(#clip00)\" points=\"\n",
       "0,400 600,400 600,0 0,0 \n",
       "  \" fill=\"#ffffff\" fill-opacity=\"1\"/>\n",
       "<defs>\n",
       "  <clipPath id=\"clip01\">\n",
       "    <rect x=\"120\" y=\"0\" width=\"421\" height=\"400\"/>\n",
       "  </clipPath>\n",
       "</defs>\n",
       "<polygon clip-path=\"url(#clip00)\" points=\"\n",
       "39.3701,368.504 592.126,368.504 592.126,7.87402 39.3701,7.87402 \n",
       "  \" fill=\"#ffffff\" fill-opacity=\"1\"/>\n",
       "<defs>\n",
       "  <clipPath id=\"clip02\">\n",
       "    <rect x=\"39\" y=\"7\" width=\"553\" height=\"361\"/>\n",
       "  </clipPath>\n",
       "</defs>\n",
       "<polyline clip-path=\"url(#clip02)\" style=\"stroke:#00002d; stroke-width:0.8; stroke-opacity:0.5; fill:none\" stroke-dasharray=\"1, 2\" points=\"\n",
       "  39.3701,363.094 39.3701,13.2835 \n",
       "  \"/>\n",
       "<polyline clip-path=\"url(#clip02)\" style=\"stroke:#00002d; stroke-width:0.8; stroke-opacity:0.5; fill:none\" stroke-dasharray=\"1, 2\" points=\"\n",
       "  216.202,363.094 216.202,13.2835 \n",
       "  \"/>\n",
       "<polyline clip-path=\"url(#clip02)\" style=\"stroke:#00002d; stroke-width:0.8; stroke-opacity:0.5; fill:none\" stroke-dasharray=\"1, 2\" points=\"\n",
       "  393.034,363.094 393.034,13.2835 \n",
       "  \"/>\n",
       "<polyline clip-path=\"url(#clip02)\" style=\"stroke:#00002d; stroke-width:0.8; stroke-opacity:0.5; fill:none\" stroke-dasharray=\"1, 2\" points=\"\n",
       "  569.866,363.094 569.866,13.2835 \n",
       "  \"/>\n",
       "<polyline clip-path=\"url(#clip02)\" style=\"stroke:#00002d; stroke-width:0.8; stroke-opacity:0.5; fill:none\" stroke-dasharray=\"1, 2\" points=\"\n",
       "  47.6614,368.504 583.835,368.504 \n",
       "  \"/>\n",
       "<polyline clip-path=\"url(#clip02)\" style=\"stroke:#00002d; stroke-width:0.8; stroke-opacity:0.5; fill:none\" stroke-dasharray=\"1, 2\" points=\"\n",
       "  47.6614,278.346 583.835,278.346 \n",
       "  \"/>\n",
       "<polyline clip-path=\"url(#clip02)\" style=\"stroke:#00002d; stroke-width:0.8; stroke-opacity:0.5; fill:none\" stroke-dasharray=\"1, 2\" points=\"\n",
       "  47.6614,188.189 583.835,188.189 \n",
       "  \"/>\n",
       "<polyline clip-path=\"url(#clip02)\" style=\"stroke:#00002d; stroke-width:0.8; stroke-opacity:0.5; fill:none\" stroke-dasharray=\"1, 2\" points=\"\n",
       "  47.6614,98.0315 583.835,98.0315 \n",
       "  \"/>\n",
       "<polyline clip-path=\"url(#clip02)\" style=\"stroke:#00002d; stroke-width:0.8; stroke-opacity:0.5; fill:none\" stroke-dasharray=\"1, 2\" points=\"\n",
       "  47.6614,7.87402 583.835,7.87402 \n",
       "  \"/>\n",
       "<polyline clip-path=\"url(#clip00)\" style=\"stroke:#00002d; stroke-width:0.8; stroke-opacity:1; fill:none\" points=\"\n",
       "  39.3701,368.504 592.126,368.504 \n",
       "  \"/>\n",
       "<polyline clip-path=\"url(#clip00)\" style=\"stroke:#00002d; stroke-width:0.8; stroke-opacity:1; fill:none\" points=\"\n",
       "  39.3701,368.504 39.3701,363.094 \n",
       "  \"/>\n",
       "<polyline clip-path=\"url(#clip00)\" style=\"stroke:#00002d; stroke-width:0.8; stroke-opacity:1; fill:none\" points=\"\n",
       "  216.202,368.504 216.202,363.094 \n",
       "  \"/>\n",
       "<polyline clip-path=\"url(#clip00)\" style=\"stroke:#00002d; stroke-width:0.8; stroke-opacity:1; fill:none\" points=\"\n",
       "  393.034,368.504 393.034,363.094 \n",
       "  \"/>\n",
       "<polyline clip-path=\"url(#clip00)\" style=\"stroke:#00002d; stroke-width:0.8; stroke-opacity:1; fill:none\" points=\"\n",
       "  569.866,368.504 569.866,363.094 \n",
       "  \"/>\n",
       "<polyline clip-path=\"url(#clip00)\" style=\"stroke:#00002d; stroke-width:0.8; stroke-opacity:1; fill:none\" points=\"\n",
       "  39.3701,368.504 39.3701,7.87402 \n",
       "  \"/>\n",
       "<polyline clip-path=\"url(#clip00)\" style=\"stroke:#00002d; stroke-width:0.8; stroke-opacity:1; fill:none\" points=\"\n",
       "  39.3701,368.504 47.6614,368.504 \n",
       "  \"/>\n",
       "<polyline clip-path=\"url(#clip00)\" style=\"stroke:#00002d; stroke-width:0.8; stroke-opacity:1; fill:none\" points=\"\n",
       "  39.3701,278.346 47.6614,278.346 \n",
       "  \"/>\n",
       "<polyline clip-path=\"url(#clip00)\" style=\"stroke:#00002d; stroke-width:0.8; stroke-opacity:1; fill:none\" points=\"\n",
       "  39.3701,188.189 47.6614,188.189 \n",
       "  \"/>\n",
       "<polyline clip-path=\"url(#clip00)\" style=\"stroke:#00002d; stroke-width:0.8; stroke-opacity:1; fill:none\" points=\"\n",
       "  39.3701,98.0315 47.6614,98.0315 \n",
       "  \"/>\n",
       "<polyline clip-path=\"url(#clip00)\" style=\"stroke:#00002d; stroke-width:0.8; stroke-opacity:1; fill:none\" points=\"\n",
       "  39.3701,7.87402 47.6614,7.87402 \n",
       "  \"/>\n",
       "<g clip-path=\"url(#clip00)\">\n",
       "<text style=\"fill:#00002d; fill-opacity:1; font-family:Arial,Helvetica Neue,Helvetica,sans-serif; font-size:12; text-anchor:middle;\" transform=\"rotate(0, 39.3701, 382.304)\" x=\"39.3701\" y=\"382.304\">0</text>\n",
       "</g>\n",
       "<g clip-path=\"url(#clip00)\">\n",
       "<text style=\"fill:#00002d; fill-opacity:1; font-family:Arial,Helvetica Neue,Helvetica,sans-serif; font-size:12; text-anchor:middle;\" transform=\"rotate(0, 216.202, 382.304)\" x=\"216.202\" y=\"382.304\">2</text>\n",
       "</g>\n",
       "<g clip-path=\"url(#clip00)\">\n",
       "<text style=\"fill:#00002d; fill-opacity:1; font-family:Arial,Helvetica Neue,Helvetica,sans-serif; font-size:12; text-anchor:middle;\" transform=\"rotate(0, 393.034, 382.304)\" x=\"393.034\" y=\"382.304\">4</text>\n",
       "</g>\n",
       "<g clip-path=\"url(#clip00)\">\n",
       "<text style=\"fill:#00002d; fill-opacity:1; font-family:Arial,Helvetica Neue,Helvetica,sans-serif; font-size:12; text-anchor:middle;\" transform=\"rotate(0, 569.866, 382.304)\" x=\"569.866\" y=\"382.304\">6</text>\n",
       "</g>\n",
       "<g clip-path=\"url(#clip00)\">\n",
       "<text style=\"fill:#00002d; fill-opacity:1; font-family:Arial,Helvetica Neue,Helvetica,sans-serif; font-size:12; text-anchor:end;\" transform=\"rotate(0, 33.3701, 373.004)\" x=\"33.3701\" y=\"373.004\">-5.0</text>\n",
       "</g>\n",
       "<g clip-path=\"url(#clip00)\">\n",
       "<text style=\"fill:#00002d; fill-opacity:1; font-family:Arial,Helvetica Neue,Helvetica,sans-serif; font-size:12; text-anchor:end;\" transform=\"rotate(0, 33.3701, 282.846)\" x=\"33.3701\" y=\"282.846\">-2.5</text>\n",
       "</g>\n",
       "<g clip-path=\"url(#clip00)\">\n",
       "<text style=\"fill:#00002d; fill-opacity:1; font-family:Arial,Helvetica Neue,Helvetica,sans-serif; font-size:12; text-anchor:end;\" transform=\"rotate(0, 33.3701, 192.689)\" x=\"33.3701\" y=\"192.689\">0.0</text>\n",
       "</g>\n",
       "<g clip-path=\"url(#clip00)\">\n",
       "<text style=\"fill:#00002d; fill-opacity:1; font-family:Arial,Helvetica Neue,Helvetica,sans-serif; font-size:12; text-anchor:end;\" transform=\"rotate(0, 33.3701, 102.531)\" x=\"33.3701\" y=\"102.531\">2.5</text>\n",
       "</g>\n",
       "<g clip-path=\"url(#clip00)\">\n",
       "<text style=\"fill:#00002d; fill-opacity:1; font-family:Arial,Helvetica Neue,Helvetica,sans-serif; font-size:12; text-anchor:end;\" transform=\"rotate(0, 33.3701, 12.374)\" x=\"33.3701\" y=\"12.374\">5.0</text>\n",
       "</g>\n",
       "<polyline clip-path=\"url(#clip02)\" style=\"stroke:#0099ff; stroke-width:0.8; stroke-opacity:1; fill:none\" points=\"\n",
       "  39.3701,188.189 42.1477,174.085 44.9254,160.329 47.7031,147.258 50.4808,135.196 53.2584,124.438 56.0361,115.25 58.8138,107.858 61.5914,102.444 64.3691,99.1415 \n",
       "  67.1468,98.0315 69.9244,99.1415 72.7021,102.444 75.4798,107.858 78.2574,115.25 81.0351,124.438 83.8128,135.196 86.5904,147.258 89.3681,160.329 92.1458,174.085 \n",
       "  94.9234,188.189 97.7011,202.293 100.479,216.049 103.256,229.12 106.034,241.182 108.812,251.94 111.589,261.128 114.367,268.52 117.145,273.934 119.922,277.236 \n",
       "  122.7,278.346 125.478,277.236 128.255,273.934 131.033,268.52 133.811,261.128 136.588,251.94 139.366,241.182 142.144,229.12 144.921,216.049 147.699,202.293 \n",
       "  150.477,188.189 153.254,174.085 156.032,160.329 158.81,147.258 161.587,135.196 164.365,124.438 167.143,115.25 169.92,107.858 172.698,102.444 175.476,99.1415 \n",
       "  178.253,98.0315 181.031,99.1415 183.809,102.444 186.586,107.858 189.364,115.25 192.142,124.438 194.919,135.196 197.697,147.258 200.475,160.329 203.252,174.085 \n",
       "  206.03,188.189 208.808,202.293 211.585,216.049 214.363,229.12 217.141,241.182 219.918,251.94 222.696,261.128 225.474,268.52 228.251,273.934 231.029,277.236 \n",
       "  233.807,278.346 236.584,277.236 239.362,273.934 242.14,268.52 244.918,261.128 247.695,251.94 250.473,241.182 253.251,229.12 256.028,216.049 258.806,202.293 \n",
       "  261.584,188.189 264.361,174.085 267.139,160.329 269.917,147.258 272.694,135.196 275.472,124.438 278.25,115.25 281.027,107.858 283.805,102.444 286.583,99.1415 \n",
       "  289.36,98.0315 292.138,99.1415 294.916,102.444 297.693,107.858 300.471,115.25 303.249,124.438 306.026,135.196 308.804,147.258 311.582,160.329 314.359,174.085 \n",
       "  317.137,188.189 319.915,202.293 322.692,216.049 325.47,229.12 328.248,241.182 331.025,251.94 333.803,261.128 336.581,268.52 339.358,273.934 342.136,277.236 \n",
       "  344.914,278.346 347.691,277.236 350.469,273.934 353.247,268.52 356.024,261.128 358.802,251.94 361.58,241.182 364.357,229.12 367.135,216.049 369.913,202.293 \n",
       "  372.69,188.189 375.468,174.085 378.246,160.329 381.023,147.258 383.801,135.196 386.579,124.438 389.356,115.25 392.134,107.858 394.912,102.444 397.689,99.1415 \n",
       "  400.467,98.0315 403.245,99.1415 406.022,102.444 408.8,107.858 411.578,115.25 414.355,124.438 417.133,135.196 419.911,147.258 422.688,160.329 425.466,174.085 \n",
       "  428.244,188.189 431.021,202.293 433.799,216.049 436.577,229.12 439.354,241.182 442.132,251.94 444.91,261.128 447.687,268.52 450.465,273.934 453.243,277.236 \n",
       "  456.02,278.346 458.798,277.236 461.576,273.934 464.353,268.52 467.131,261.128 469.909,251.94 472.686,241.182 475.464,229.12 478.242,216.049 481.019,202.293 \n",
       "  483.797,188.189 486.575,174.085 489.352,160.329 492.13,147.258 494.908,135.196 497.685,124.438 500.463,115.25 503.241,107.858 506.018,102.444 508.796,99.1415 \n",
       "  511.574,98.0315 514.351,99.1415 517.129,102.444 519.907,107.858 522.684,115.25 525.462,124.438 528.24,135.196 531.017,147.258 533.795,160.329 536.573,174.085 \n",
       "  539.35,188.189 542.128,202.293 544.906,216.049 547.683,229.12 550.461,241.182 553.239,251.94 556.016,261.128 558.794,268.52 561.572,273.934 564.349,277.236 \n",
       "  567.127,278.346 569.905,277.236 572.682,273.934 575.46,268.52 578.238,261.128 581.015,251.94 583.793,241.182 586.571,229.12 589.348,216.049 592.126,202.293 \n",
       "  \n",
       "  \"/>\n",
       "<polygon clip-path=\"url(#clip00)\" points=\"\n",
       "501.61,58.994 574.126,58.994 574.126,28.754 501.61,28.754 \n",
       "  \" fill=\"#ffffff\" fill-opacity=\"1\"/>\n",
       "<polyline clip-path=\"url(#clip00)\" style=\"stroke:#00002d; stroke-width:0.8; stroke-opacity:1; fill:none\" points=\"\n",
       "  501.61,58.994 574.126,58.994 574.126,28.754 501.61,28.754 501.61,58.994 \n",
       "  \"/>\n",
       "<polyline clip-path=\"url(#clip00)\" style=\"stroke:#0099ff; stroke-width:0.8; stroke-opacity:1; fill:none\" points=\"\n",
       "  507.61,43.874 543.61,43.874 \n",
       "  \"/>\n",
       "<g clip-path=\"url(#clip00)\">\n",
       "<text style=\"fill:#00002d; fill-opacity:1; font-family:Arial,Helvetica Neue,Helvetica,sans-serif; font-size:12; text-anchor:start;\" transform=\"rotate(0, 549.61, 48.374)\" x=\"549.61\" y=\"48.374\">y1</text>\n",
       "</g>\n",
       "</svg>\n"
      ]
     },
     "execution_count": 16,
     "metadata": {
      "comm_id": "7725e5df-597a-46b1-a583-29056428ed20",
      "reactive": true
     },
     "output_type": "execute_result"
    }
   ],
   "source": [
    "x = 0:π/100:2π\n",
    "@manipulate for f=0.0:0.1:10.0, a=0.0:0.1:5.0\n",
    "    plot(x,a*sin.(f*x),ylims=(-5,5))\n",
    "end"
   ]
  },
  {
   "cell_type": "code",
   "execution_count": null,
   "metadata": {
    "collapsed": true
   },
   "outputs": [],
   "source": []
  }
 ],
 "metadata": {
  "kernelspec": {
   "display_name": "Julia 0.6.0",
   "language": "julia",
   "name": "julia-0.6"
  },
  "language_info": {
   "file_extension": ".jl",
   "mimetype": "application/julia",
   "name": "julia",
   "version": "0.6.0"
  }
 },
 "nbformat": 4,
 "nbformat_minor": 1
}
