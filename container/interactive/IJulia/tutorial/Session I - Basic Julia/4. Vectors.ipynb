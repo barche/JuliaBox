{
 "cells": [
  {
   "cell_type": "markdown",
   "metadata": {},
   "source": [
    "# Vectors"
   ]
  },
  {
   "cell_type": "markdown",
   "metadata": {},
   "source": [
    "Arrays (vectors, matrices, etc.) in Julia have a dual function: \n",
    "\n",
    "1. They act as *containers* that store information;\n",
    "2. They behave like mathematical vectors and matrices."
   ]
  },
  {
   "cell_type": "markdown",
   "metadata": {},
   "source": [
    "[1] Define two vectors `v` y `w` with three components each.\n",
    "\n",
    "[2] Try doing vector space operations on the vectors (adding two vectors, multiplying a vector by a scalar).\n",
    "\n",
    "[3] Try multiplying two vectors. Does this work? What could/should this mean? If you want *element-by-element* operations, add a `.` before the operator name, e.g.  \"`.*`\" (MATLAB style). What about division?\n",
    "\n",
    "[4] Guess the names for dot and cross product. Since Julia tries, when possible, to allow Unicode for mathematical notation, these can also be written\n",
    "as `\\cdot<TAB>` and `\\times<TAB>`. Try it.\n",
    "\n",
    "[5] Many mathematical functions are defined to act component-wise on vectors. Try your favourite ones. "
   ]
  },
  {
   "cell_type": "code",
   "execution_count": 1,
   "metadata": {},
   "outputs": [
    {
     "data": {
      "text/plain": [
       "3-element Array{Int64,1}:\n",
       " 1\n",
       " 2\n",
       " 3"
      ]
     },
     "execution_count": 1,
     "metadata": {},
     "output_type": "execute_result"
    }
   ],
   "source": [
    "a = [1,2,3]"
   ]
  },
  {
   "cell_type": "code",
   "execution_count": 2,
   "metadata": {},
   "outputs": [
    {
     "data": {
      "text/plain": [
       "1×3 Array{Int64,2}:\n",
       " 4  5  6"
      ]
     },
     "execution_count": 2,
     "metadata": {},
     "output_type": "execute_result"
    }
   ],
   "source": [
    "b = [4 5 6]"
   ]
  },
  {
   "cell_type": "code",
   "execution_count": 3,
   "metadata": {},
   "outputs": [
    {
     "data": {
      "text/plain": [
       "3×3 Array{Int64,2}:\n",
       "  4   5   6\n",
       "  8  10  12\n",
       " 12  15  18"
      ]
     },
     "execution_count": 3,
     "metadata": {},
     "output_type": "execute_result"
    }
   ],
   "source": [
    "a*b"
   ]
  },
  {
   "cell_type": "code",
   "execution_count": 4,
   "metadata": {},
   "outputs": [
    {
     "data": {
      "text/plain": [
       "1-element Array{Int64,1}:\n",
       " 32"
      ]
     },
     "execution_count": 4,
     "metadata": {},
     "output_type": "execute_result"
    }
   ],
   "source": [
    "b*a"
   ]
  },
  {
   "cell_type": "code",
   "execution_count": 5,
   "metadata": {},
   "outputs": [
    {
     "ename": "LoadError",
     "evalue": "\u001b[91mDimensionMismatch(\"Cannot multiply two vectors\")\u001b[39m",
     "output_type": "error",
     "traceback": [
      "\u001b[91mDimensionMismatch(\"Cannot multiply two vectors\")\u001b[39m",
      "",
      "Stacktrace:",
      " [1] \u001b[1m*\u001b[22m\u001b[22m\u001b[1m(\u001b[22m\u001b[22m::Array{Int64,1}, ::Array{Int64,1}\u001b[1m)\u001b[22m\u001b[22m at \u001b[1m./linalg/rowvector.jl:184\u001b[22m\u001b[22m",
      " [2] \u001b[1mexecute_request\u001b[22m\u001b[22m\u001b[1m(\u001b[22m\u001b[22m::ZMQ.Socket, ::IJulia.Msg\u001b[1m)\u001b[22m\u001b[22m at \u001b[1m/home/bjanssens/.julia/v0.6/IJulia/src/execute_request.jl:160\u001b[22m\u001b[22m",
      " [3] \u001b[1meventloop\u001b[22m\u001b[22m\u001b[1m(\u001b[22m\u001b[22m::ZMQ.Socket\u001b[1m)\u001b[22m\u001b[22m at \u001b[1m/home/bjanssens/.julia/v0.6/IJulia/src/eventloop.jl:8\u001b[22m\u001b[22m",
      " [4] \u001b[1m(::IJulia.##11#14)\u001b[22m\u001b[22m\u001b[1m(\u001b[22m\u001b[22m\u001b[1m)\u001b[22m\u001b[22m at \u001b[1m./task.jl:335\u001b[22m\u001b[22m"
     ]
    }
   ],
   "source": [
    "a * a"
   ]
  },
  {
   "cell_type": "code",
   "execution_count": 6,
   "metadata": {},
   "outputs": [
    {
     "data": {
      "text/plain": [
       "3-element Array{Int64,1}:\n",
       " 1\n",
       " 4\n",
       " 9"
      ]
     },
     "execution_count": 6,
     "metadata": {},
     "output_type": "execute_result"
    }
   ],
   "source": [
    "a .* a"
   ]
  },
  {
   "cell_type": "code",
   "execution_count": 7,
   "metadata": {},
   "outputs": [
    {
     "data": {
      "text/plain": [
       "3×3 Array{Int64,2}:\n",
       "  4   5   6\n",
       "  8  10  12\n",
       " 12  15  18"
      ]
     },
     "execution_count": 7,
     "metadata": {},
     "output_type": "execute_result"
    }
   ],
   "source": [
    "a .* b"
   ]
  },
  {
   "cell_type": "code",
   "execution_count": 8,
   "metadata": {},
   "outputs": [
    {
     "data": {
      "text/plain": [
       "3×3 Array{Int64,2}:\n",
       "  4   5   6\n",
       "  8  10  12\n",
       " 12  15  18"
      ]
     },
     "execution_count": 8,
     "metadata": {},
     "output_type": "execute_result"
    }
   ],
   "source": [
    "b .* a"
   ]
  },
  {
   "cell_type": "markdown",
   "metadata": {},
   "source": [
    "Explanation:\n",
    "https://julialang.org/blog/2017/01/moredots\n",
    "\n",
    "More generally, if you combine two arrays of different dimensions or shapes, any “singleton” (length 1) or missing dimension of one array is “broadcasted” across that dimension of the other array. For example, A .+ [1,2,3] adds [1,2,3] to each column of an 3×n matrix A. Another typical example is to combine a row vector (or a 1×n array) and a column vector to make a matrix (2d array).\n",
    "\n",
    "Great! Let's try:"
   ]
  },
  {
   "cell_type": "code",
   "execution_count": 9,
   "metadata": {},
   "outputs": [
    {
     "data": {
      "text/plain": [
       "3×3 Array{Float64,2}:\n",
       " 0.0  0.0  0.0\n",
       " 0.0  0.0  0.0\n",
       " 0.0  0.0  0.0"
      ]
     },
     "execution_count": 9,
     "metadata": {},
     "output_type": "execute_result"
    }
   ],
   "source": [
    "A = zeros((3,3))"
   ]
  },
  {
   "cell_type": "code",
   "execution_count": 10,
   "metadata": {},
   "outputs": [
    {
     "data": {
      "text/plain": [
       "3×3 Array{Float64,2}:\n",
       " 4.0  5.0  6.0\n",
       " 4.0  5.0  6.0\n",
       " 4.0  5.0  6.0"
      ]
     },
     "execution_count": 10,
     "metadata": {},
     "output_type": "execute_result"
    }
   ],
   "source": [
    "B = A .+ b"
   ]
  },
  {
   "cell_type": "code",
   "execution_count": 11,
   "metadata": {},
   "outputs": [
    {
     "data": {
      "text/plain": [
       "1×3 Array{Float64,2}:\n",
       " 4.0  5.0  6.0"
      ]
     },
     "execution_count": 11,
     "metadata": {},
     "output_type": "execute_result"
    }
   ],
   "source": [
    "mean(B,1)"
   ]
  },
  {
   "cell_type": "code",
   "execution_count": 12,
   "metadata": {},
   "outputs": [
    {
     "data": {
      "text/plain": [
       "3×1 Array{Float64,2}:\n",
       " 5.0\n",
       " 5.0\n",
       " 5.0"
      ]
     },
     "execution_count": 12,
     "metadata": {},
     "output_type": "execute_result"
    }
   ],
   "source": [
    "mean(B,2)"
   ]
  },
  {
   "cell_type": "code",
   "execution_count": 13,
   "metadata": {},
   "outputs": [
    {
     "data": {
      "text/plain": [
       "3×3 Array{Float64,2}:\n",
       " -1.0  0.0  1.0\n",
       " -1.0  0.0  1.0\n",
       " -1.0  0.0  1.0"
      ]
     },
     "execution_count": 13,
     "metadata": {},
     "output_type": "execute_result"
    }
   ],
   "source": [
    "B .- mean(B,2)"
   ]
  },
  {
   "cell_type": "code",
   "execution_count": 14,
   "metadata": {},
   "outputs": [
    {
     "data": {
      "text/plain": [
       "3×3 Array{Float64,2}:\n",
       " 1.0  1.0  1.0\n",
       " 2.0  2.0  2.0\n",
       " 3.0  3.0  3.0"
      ]
     },
     "execution_count": 14,
     "metadata": {},
     "output_type": "execute_result"
    }
   ],
   "source": [
    "C = A .+ a"
   ]
  },
  {
   "cell_type": "code",
   "execution_count": 15,
   "metadata": {},
   "outputs": [
    {
     "data": {
      "text/plain": [
       "3×3 Array{Float64,2}:\n",
       " -1.0  -1.0  -1.0\n",
       "  0.0   0.0   0.0\n",
       "  1.0   1.0   1.0"
      ]
     },
     "execution_count": 15,
     "metadata": {},
     "output_type": "execute_result"
    }
   ],
   "source": [
    "C .- mean(C,1)"
   ]
  },
  {
   "cell_type": "code",
   "execution_count": 16,
   "metadata": {},
   "outputs": [
    {
     "data": {
      "text/plain": [
       "double (generic function with 1 method)"
      ]
     },
     "execution_count": 16,
     "metadata": {},
     "output_type": "execute_result"
    }
   ],
   "source": [
    "double(x::Number) = 2*x"
   ]
  },
  {
   "cell_type": "code",
   "execution_count": 17,
   "metadata": {},
   "outputs": [
    {
     "data": {
      "text/plain": [
       "4"
      ]
     },
     "execution_count": 17,
     "metadata": {},
     "output_type": "execute_result"
    }
   ],
   "source": [
    "double(2)"
   ]
  },
  {
   "cell_type": "code",
   "execution_count": 18,
   "metadata": {},
   "outputs": [
    {
     "ename": "LoadError",
     "evalue": "\u001b[91mMethodError: no method matching double(::Array{Int64,1})\u001b[0m\nClosest candidates are:\n  double(\u001b[91m::Number\u001b[39m) at In[16]:1\u001b[39m",
     "output_type": "error",
     "traceback": [
      "\u001b[91mMethodError: no method matching double(::Array{Int64,1})\u001b[0m\nClosest candidates are:\n  double(\u001b[91m::Number\u001b[39m) at In[16]:1\u001b[39m",
      "",
      "Stacktrace:",
      " [1] \u001b[1mexecute_request\u001b[22m\u001b[22m\u001b[1m(\u001b[22m\u001b[22m::ZMQ.Socket, ::IJulia.Msg\u001b[1m)\u001b[22m\u001b[22m at \u001b[1m/home/bjanssens/.julia/v0.6/IJulia/src/execute_request.jl:160\u001b[22m\u001b[22m",
      " [2] \u001b[1meventloop\u001b[22m\u001b[22m\u001b[1m(\u001b[22m\u001b[22m::ZMQ.Socket\u001b[1m)\u001b[22m\u001b[22m at \u001b[1m/home/bjanssens/.julia/v0.6/IJulia/src/eventloop.jl:8\u001b[22m\u001b[22m",
      " [3] \u001b[1m(::IJulia.##11#14)\u001b[22m\u001b[22m\u001b[1m(\u001b[22m\u001b[22m\u001b[1m)\u001b[22m\u001b[22m at \u001b[1m./task.jl:335\u001b[22m\u001b[22m"
     ]
    }
   ],
   "source": [
    "double(a)"
   ]
  },
  {
   "cell_type": "code",
   "execution_count": 19,
   "metadata": {},
   "outputs": [
    {
     "data": {
      "text/plain": [
       "3-element Array{Int64,1}:\n",
       " 2\n",
       " 4\n",
       " 6"
      ]
     },
     "execution_count": 19,
     "metadata": {},
     "output_type": "execute_result"
    }
   ],
   "source": [
    "double.(a)"
   ]
  },
  {
   "cell_type": "code",
   "execution_count": 20,
   "metadata": {},
   "outputs": [
    {
     "data": {
      "text/plain": [
       "addtwo (generic function with 1 method)"
      ]
     },
     "execution_count": 20,
     "metadata": {},
     "output_type": "execute_result"
    }
   ],
   "source": [
    "addtwo(a::Number,b::Number) = a+b"
   ]
  },
  {
   "cell_type": "code",
   "execution_count": 21,
   "metadata": {},
   "outputs": [
    {
     "data": {
      "text/plain": [
       "3"
      ]
     },
     "execution_count": 21,
     "metadata": {},
     "output_type": "execute_result"
    }
   ],
   "source": [
    "addtwo(1,2)"
   ]
  },
  {
   "cell_type": "code",
   "execution_count": 22,
   "metadata": {},
   "outputs": [
    {
     "data": {
      "text/plain": [
       "3×3 Array{Int64,2}:\n",
       " 5  6  7\n",
       " 6  7  8\n",
       " 7  8  9"
      ]
     },
     "execution_count": 22,
     "metadata": {},
     "output_type": "execute_result"
    }
   ],
   "source": [
    "addtwo.(a,b)"
   ]
  },
  {
   "cell_type": "code",
   "execution_count": 25,
   "metadata": {},
   "outputs": [
    {
     "data": {
      "text/plain": [
       "3×3 Array{Int64,2}:\n",
       " 5  6  7\n",
       " 6  7  8\n",
       " 7  8  9"
      ]
     },
     "execution_count": 25,
     "metadata": {},
     "output_type": "execute_result"
    }
   ],
   "source": [
    "a .+ b"
   ]
  },
  {
   "cell_type": "markdown",
   "metadata": {},
   "source": [
    "Also for performance:"
   ]
  },
  {
   "cell_type": "code",
   "execution_count": 38,
   "metadata": {},
   "outputs": [
    {
     "data": {
      "text/plain": [
       "1×1000000 RowVector{Int64,Array{Int64,1}}:\n",
       " 2  2  2  2  2  2  2  2  2  2  2  2  2  …  2  2  2  2  2  2  2  2  2  2  2  2"
      ]
     },
     "execution_count": 38,
     "metadata": {},
     "output_type": "execute_result"
    }
   ],
   "source": [
    "a = ones(1_000_000)'\n",
    "b = fill(2, 1_000_000)'"
   ]
  },
  {
   "cell_type": "code",
   "execution_count": 6,
   "metadata": {
    "collapsed": true
   },
   "outputs": [],
   "source": [
    "using BenchmarkTools"
   ]
  },
  {
   "cell_type": "code",
   "execution_count": 39,
   "metadata": {},
   "outputs": [
    {
     "name": "stdout",
     "output_type": "stream",
     "text": [
      "  8.688 ms (9 allocations: 22.89 MiB)\n"
     ]
    },
    {
     "data": {
      "text/plain": [
       "1×1000000 RowVector{Float64,Array{Float64,1}}:\n",
       " 3.0  3.0  3.0  3.0  3.0  3.0  3.0  3.0  …  3.0  3.0  3.0  3.0  3.0  3.0  3.0"
      ]
     },
     "execution_count": 39,
     "metadata": {},
     "output_type": "execute_result"
    }
   ],
   "source": [
    "@btime $a += $b"
   ]
  },
  {
   "cell_type": "code",
   "execution_count": 40,
   "metadata": {},
   "outputs": [
    {
     "name": "stdout",
     "output_type": "stream",
     "text": [
      "  2.353 ms (0 allocations: 0 bytes)\n"
     ]
    },
    {
     "data": {
      "text/plain": [
       "1×1000000 RowVector{Float64,Array{Float64,1}}:\n",
       " 8267.0  8267.0  8267.0  8267.0  8267.0  …  8267.0  8267.0  8267.0  8267.0"
      ]
     },
     "execution_count": 40,
     "metadata": {},
     "output_type": "execute_result"
    }
   ],
   "source": [
    "@btime $a .+= $b"
   ]
  },
  {
   "cell_type": "code",
   "execution_count": 41,
   "metadata": {},
   "outputs": [
    {
     "data": {
      "text/plain": [
       "1×1000000 RowVector{Float64,Array{Float64,1}}:\n",
       " 3.0  3.0  3.0  3.0  3.0  3.0  3.0  3.0  …  3.0  3.0  3.0  3.0  3.0  3.0  3.0"
      ]
     },
     "execution_count": 41,
     "metadata": {},
     "output_type": "execute_result"
    }
   ],
   "source": [
    "a = ones(1_000_000)'\n",
    "b = fill(2, 1_000_000)'\n",
    "a .+= b"
   ]
  },
  {
   "cell_type": "markdown",
   "metadata": {},
   "source": [
    "# Creating vectors"
   ]
  },
  {
   "cell_type": "markdown",
   "metadata": {},
   "source": [
    "There are various utility functions for creating vectors:\n",
    "\n",
    "[1] Experiment with `zeros`, `ones`\n",
    "\n",
    "Concatenation is possible using `;` inside the `[...]`.\n",
    "\n",
    "[2] Create a vector containing 1 to 10, 20 to 30, followed by 100, using concatenation."
   ]
  },
  {
   "cell_type": "markdown",
   "metadata": {},
   "source": [
    "# Array comprehensions"
   ]
  },
  {
   "cell_type": "markdown",
   "metadata": {},
   "source": [
    "Julia provides a powerful *array comprehension*  syntax for constructing vectors (or, in general, arrays) from another sequence.\n",
    "This provides a syntax similar to the mathematical definition of a set; for example, the set $S$ defined by\n",
    "\n",
    "$$S := \\{ x^2 : x \\in \\{1, \\ldots, 10 \\} \\}$$\n",
    "\n",
    "is the set of the squares of the numbers from 1 to 10. In Julia we can accomplish this as\n",
    "\n",
    "    S = [x^2 for x in 1:10]"
   ]
  },
  {
   "cell_type": "markdown",
   "metadata": {},
   "source": [
    "[1] Use an array comprehension to define a function `my_exp` that gives an approximation to the exponential function.\n",
    "\n",
    "[2] How could we use this to calculate `my_sin` and `my_cos`?"
   ]
  },
  {
   "cell_type": "markdown",
   "metadata": {},
   "source": [
    "# Constructing vectors: `map`, `filter`"
   ]
  },
  {
   "cell_type": "markdown",
   "metadata": {},
   "source": [
    "Given a vector (or, in general, an iterable), another vector may be created by applying a given function to each element\n",
    "Two useful higher-order functions in Julia are:\n",
    "1. `map`:    apply a given function to each element of a given iterable\n",
    "2. `filter`: return only those elements for which a given condition is satisfied.\n",
    "\n",
    "[6] Experiment with `map`. \n",
    "\n",
    "[7] Check the relative performance of `map` and an array comprehension for the same function and vector.\n",
    "\n",
    "`filter` is often used with an *anonymous function* -- a function created with no name, for the sole purpose of using it in the `filter`. The Julia syntax for a function is similar to the mathematical syntax $x \\mapsto 3x^2$:\n",
    "\n",
    "    filter(x -> x < 10,  v)\n",
    "    \n",
    "[8] What kind of object is `x -> x < 10`?  (You can assign this to a variable.) Check that anonymous functions may also be \n",
    "    \n",
    "[8] Check the relative performance of `filter` and the following syntax that also selects those elements of the array satisfying the given condition:\n",
    "\n",
    "    v[v .< 10]\n",
    "    \n",
    "[9] What does `v .< 10` by itself do?\n",
    "\n",
    "[Note that higher-order functions and anonymous functions are commonly thought to be \"slow\" currently in Julia, and so should not be used in performance-critical parts of code.]"
   ]
  },
  {
   "cell_type": "code",
   "execution_count": 42,
   "metadata": {},
   "outputs": [
    {
     "name": "stdout",
     "output_type": "stream",
     "text": [
      "search: \u001b[1mm\u001b[22m\u001b[1ma\u001b[22m\u001b[1mp\u001b[22m \u001b[1mm\u001b[22m\u001b[1ma\u001b[22m\u001b[1mp\u001b[22m! \u001b[1mm\u001b[22m\u001b[1ma\u001b[22m\u001b[1mp\u001b[22mfoldr \u001b[1mm\u001b[22m\u001b[1ma\u001b[22m\u001b[1mp\u001b[22mfoldl \u001b[1mm\u001b[22m\u001b[1ma\u001b[22m\u001b[1mp\u001b[22mslices \u001b[1mm\u001b[22m\u001b[1ma\u001b[22m\u001b[1mp\u001b[22mreduce \u001b[1mm\u001b[22m\u001b[1ma\u001b[22m\u001b[1mp\u001b[22mreducedim p\u001b[1mm\u001b[22m\u001b[1ma\u001b[22m\u001b[1mp\u001b[22m \u001b[1mM\u001b[22mm\u001b[1ma\u001b[22m\u001b[1mp\u001b[22m\n",
      "\n"
     ]
    },
    {
     "data": {
      "text/markdown": [
       "```\n",
       "map(f, c...) -> collection\n",
       "```\n",
       "\n",
       "Transform collection `c` by applying `f` to each element. For multiple collection arguments, apply `f` elementwise.\n",
       "\n",
       "```jldoctest\n",
       "julia> map(x -> x * 2, [1, 2, 3])\n",
       "3-element Array{Int64,1}:\n",
       " 2\n",
       " 4\n",
       " 6\n",
       "\n",
       "julia> map(+, [1, 2, 3], [10, 20, 30])\n",
       "3-element Array{Int64,1}:\n",
       " 11\n",
       " 22\n",
       " 33\n",
       "```\n",
       "\n",
       "```\n",
       "map(f, x::Nullable)\n",
       "```\n",
       "\n",
       "Return `f` applied to the value of `x` if it has one, as a `Nullable`. If `x` is null, then return a null value of type `Nullable{S}`. `S` is guaranteed to be either `Union{}` or a concrete type. Whichever of these is chosen is an implementation detail, but typically the choice that maximizes performance would be used. If `x` has a value, then the return type is guaranteed to be of type `Nullable{typeof(f(x))}`.\n"
      ],
      "text/plain": [
       "```\n",
       "map(f, c...) -> collection\n",
       "```\n",
       "\n",
       "Transform collection `c` by applying `f` to each element. For multiple collection arguments, apply `f` elementwise.\n",
       "\n",
       "```jldoctest\n",
       "julia> map(x -> x * 2, [1, 2, 3])\n",
       "3-element Array{Int64,1}:\n",
       " 2\n",
       " 4\n",
       " 6\n",
       "\n",
       "julia> map(+, [1, 2, 3], [10, 20, 30])\n",
       "3-element Array{Int64,1}:\n",
       " 11\n",
       " 22\n",
       " 33\n",
       "```\n",
       "\n",
       "```\n",
       "map(f, x::Nullable)\n",
       "```\n",
       "\n",
       "Return `f` applied to the value of `x` if it has one, as a `Nullable`. If `x` is null, then return a null value of type `Nullable{S}`. `S` is guaranteed to be either `Union{}` or a concrete type. Whichever of these is chosen is an implementation detail, but typically the choice that maximizes performance would be used. If `x` has a value, then the return type is guaranteed to be of type `Nullable{typeof(f(x))}`.\n"
      ]
     },
     "execution_count": 42,
     "metadata": {},
     "output_type": "execute_result"
    }
   ],
   "source": [
    "?map"
   ]
  },
  {
   "cell_type": "code",
   "execution_count": 45,
   "metadata": {},
   "outputs": [
    {
     "name": "stdout",
     "output_type": "stream",
     "text": [
      "  5.067 ms (11 allocations: 15.26 MiB)\n"
     ]
    },
    {
     "data": {
      "text/plain": [
       "1×1000000 RowVector{Float64,Array{Float64,1}}:\n",
       " 9.0  9.0  9.0  9.0  9.0  9.0  9.0  9.0  …  9.0  9.0  9.0  9.0  9.0  9.0  9.0"
      ]
     },
     "execution_count": 45,
     "metadata": {},
     "output_type": "execute_result"
    }
   ],
   "source": [
    "@btime map(x->x^2,a)"
   ]
  },
  {
   "cell_type": "code",
   "execution_count": 47,
   "metadata": {},
   "outputs": [
    {
     "name": "stdout",
     "output_type": "stream",
     "text": [
      "  2.513 ms (4 allocations: 7.63 MiB)\n"
     ]
    },
    {
     "data": {
      "text/plain": [
       "1×1000000 Array{Float64,2}:\n",
       " 9.0  9.0  9.0  9.0  9.0  9.0  9.0  9.0  …  9.0  9.0  9.0  9.0  9.0  9.0  9.0"
      ]
     },
     "execution_count": 47,
     "metadata": {},
     "output_type": "execute_result"
    }
   ],
   "source": [
    "@btime [x^2 for x in a]"
   ]
  },
  {
   "cell_type": "markdown",
   "metadata": {},
   "source": [
    "## Static Arrays\n",
    "Regular arrays are not very efficient. Consider adding two numbers:"
   ]
  },
  {
   "cell_type": "code",
   "execution_count": 24,
   "metadata": {},
   "outputs": [
    {
     "data": {
      "text/plain": [
       "addtwotuples (generic function with 1 method)"
      ]
     },
     "execution_count": 24,
     "metadata": {},
     "output_type": "execute_result"
    }
   ],
   "source": [
    "# tuple version\n",
    "addtwotuples(a,b) = (a[1]+b[1], a[2] + b[2])"
   ]
  },
  {
   "cell_type": "code",
   "execution_count": 27,
   "metadata": {},
   "outputs": [
    {
     "data": {
      "text/plain": [
       "(4.0, 6.0)"
      ]
     },
     "execution_count": 27,
     "metadata": {},
     "output_type": "execute_result"
    }
   ],
   "source": [
    "addtwotuples((1.0,2.0), (3.0,4.0))"
   ]
  },
  {
   "cell_type": "code",
   "execution_count": 28,
   "metadata": {},
   "outputs": [
    {
     "name": "stdout",
     "output_type": "stream",
     "text": [
      "\t.text\n",
      "Filename: In[24]\n",
      "\tpushq\t%rbp\n",
      "\tmovq\t%rsp, %rbp\n",
      "Source line: 2\n",
      "\tmovsd\t(%rsi), %xmm0           # xmm0 = mem[0],zero\n",
      "\tmovsd\t8(%rsi), %xmm1          # xmm1 = mem[0],zero\n",
      "\taddsd\t(%rdx), %xmm0\n",
      "\taddsd\t8(%rdx), %xmm1\n",
      "\tmovsd\t%xmm0, (%rdi)\n",
      "\tmovsd\t%xmm1, 8(%rdi)\n",
      "\tmovq\t%rdi, %rax\n",
      "\tpopq\t%rbp\n",
      "\tretq\n",
      "\tnopw\t%cs:(%rax,%rax)\n"
     ]
    }
   ],
   "source": [
    "@code_native addtwotuples((1.0,2.0), (3.0,4.0))"
   ]
  },
  {
   "cell_type": "code",
   "execution_count": 29,
   "metadata": {},
   "outputs": [
    {
     "name": "stdout",
     "output_type": "stream",
     "text": [
      "  1.764 ns (0 allocations: 0 bytes)\n"
     ]
    },
    {
     "data": {
      "text/plain": [
       "(4.0, 6.0)"
      ]
     },
     "execution_count": 29,
     "metadata": {},
     "output_type": "execute_result"
    }
   ],
   "source": [
    "@btime addtwotuples((1.0,2.0), (3.0,4.0))"
   ]
  },
  {
   "cell_type": "markdown",
   "metadata": {},
   "source": [
    "Array version:"
   ]
  },
  {
   "cell_type": "code",
   "execution_count": 10,
   "metadata": {},
   "outputs": [
    {
     "data": {
      "text/plain": [
       "2-element Array{Float64,1}:\n",
       " 4.0\n",
       " 6.0"
      ]
     },
     "execution_count": 10,
     "metadata": {},
     "output_type": "execute_result"
    }
   ],
   "source": [
    "[1.0,2.0] + [3.0,4.0]"
   ]
  },
  {
   "cell_type": "code",
   "execution_count": 14,
   "metadata": {},
   "outputs": [
    {
     "name": "stdout",
     "output_type": "stream",
     "text": [
      "  89.000 ns (3 allocations: 288 bytes)\n"
     ]
    },
    {
     "data": {
      "text/plain": [
       "2-element Array{Float64,1}:\n",
       " 4.0\n",
       " 6.0"
      ]
     },
     "execution_count": 14,
     "metadata": {},
     "output_type": "execute_result"
    }
   ],
   "source": [
    "@btime [1.0,2.0] + [3.0,4.0]"
   ]
  },
  {
   "cell_type": "code",
   "execution_count": 15,
   "metadata": {},
   "outputs": [
    {
     "name": "stdout",
     "output_type": "stream",
     "text": [
      "\t.text\n",
      "Filename: arraymath.jl\n",
      "\tpushq\t%rbp\n",
      "\tmovq\t%rsp, %rbp\n",
      "\tpushq\t%r15\n",
      "\tpushq\t%r14\n",
      "\tpushq\t%r12\n",
      "\tpushq\t%rbx\n",
      "\tsubq\t$64, %rsp\n",
      "\tmovq\t%rsi, %r15\n",
      "\tmovq\t%rdi, %r14\n",
      "\tmovq\t%fs:0, %r12\n",
      "\taddq\t$-10888, %r12           # imm = 0xD578\n",
      "\txorpd\t%xmm0, %xmm0\n",
      "\tmovupd\t%xmm0, -80(%rbp)\n",
      "\tmovq\t$4, -96(%rbp)\n",
      "\tmovq\t(%r12), %rax\n",
      "\tmovq\t%rax, -88(%rbp)\n",
      "\tleaq\t-96(%rbp), %rax\n",
      "\tmovq\t%rax, (%r12)\n",
      "Source line: 64\n",
      "\tmovq\t24(%r14), %rax\n",
      "Source line: 64\n",
      "\tmovq\t24(%r15), %rcx\n",
      "\txorl\t%ebx, %ebx\n",
      "Source line: 37\n",
      "\ttestq\t%rax, %rax\n",
      "\tcmovsq\t%rbx, %rax\n",
      "\tmovq\t%rax, -40(%rbp)\n",
      "\ttestq\t%rcx, %rcx\n",
      "\tcmovsq\t%rbx, %rcx\n",
      "\tmovq\t%rcx, -48(%rbp)\n",
      "\tmovabsq\t$promote_shape, %rax\n",
      "\tleaq\t-40(%rbp), %rdi\n",
      "\tleaq\t-48(%rbp), %rsi\n",
      "\tcallq\t*%rax\n",
      "Source line: 64\n",
      "\tmovq\t24(%r14), %rax\n",
      "Source line: 64\n",
      "\tmovq\t24(%r15), %rcx\n",
      "Source line: 63\n",
      "\ttestq\t%rax, %rax\n",
      "\tcmovsq\t%rbx, %rax\n",
      "\tmovq\t%rax, -56(%rbp)\n",
      "\ttestq\t%rcx, %rcx\n",
      "\tcmovnsq\t%rcx, %rbx\n",
      "\tmovq\t%rbx, -64(%rbp)\n",
      "\tmovabsq\t$_bcs1, %rax\n",
      "\tleaq\t-56(%rbp), %rdi\n",
      "\tleaq\t-64(%rbp), %rsi\n",
      "\tcallq\t*%rax\n",
      "\tmovq\t%rax, %rbx\n",
      "Source line: 266\n",
      "\tmovabsq\t$139714858227536, %rdi  # imm = 0x7F11E67E9750\n",
      "\tleaq\t206513504(%rdi), %rax\n",
      "\tmovq\t%rbx, %rsi\n",
      "\tcallq\t*%rax\n",
      "\tmovq\t%rax, -80(%rbp)\n",
      "\ttestq\t%rbx, %rbx\n",
      "Source line: 66\n",
      "\tjle\tL891\n",
      "Source line: 0\n",
      "\tmovq\t(%r15), %r10\n",
      "Source line: 64\n",
      "\tmovq\t24(%r15), %rcx\n",
      "\txorl\t%edx, %edx\n",
      "Source line: 111\n",
      "\ttestq\t%rcx, %rcx\n",
      "\tcmovsq\t%rdx, %rcx\n",
      "\tmovq\t(%r14), %r11\n",
      "Source line: 64\n",
      "\tmovq\t24(%r14), %rsi\n",
      "Source line: 111\n",
      "\ttestq\t%rsi, %rsi\n",
      "\tcmovnsq\t%rsi, %rdx\n",
      "Source line: 126\n",
      "\tcmpq\t%rdx, %rbx\n",
      "\tmovq\t(%rax), %r8\n",
      "\tjne\tL267\n",
      "Source line: 121\n",
      "\tcmpq\t%rcx, %rbx\n",
      "\tjne\tL289\n",
      "Source line: 151\n",
      "\tcmpq\t$4, %rbx\n",
      "\tjae\tL323\n",
      "Source line: 0\n",
      "\txorl\t%r9d, %r9d\n",
      "\tjmp\tL691\n",
      "Source line: 121\n",
      "L267:\n",
      "\tcmpq\t%rcx, %rbx\n",
      "\tjne\tL306\n",
      "Source line: 151\n",
      "\tcmpq\t$4, %rbx\n",
      "\tjae\tL419\n",
      "Source line: 0\n",
      "\txorl\t%edi, %edi\n",
      "\tjmp\tL756\n",
      "Source line: 151\n",
      "L289:\n",
      "\tcmpq\t$4, %rbx\n",
      "\tjae\tL510\n",
      "Source line: 0\n",
      "\txorl\t%edi, %edi\n",
      "\tjmp\tL798\n",
      "Source line: 151\n",
      "L306:\n",
      "\tcmpq\t$4, %rbx\n",
      "\tjae\tL606\n",
      "Source line: 0\n",
      "\txorl\t%edi, %edi\n",
      "\tjmp\tL846\n",
      "Source line: 151\n",
      "L323:\n",
      "\tmovq\t%rbx, %r9\n",
      "\tandq\t$-4, %r9\n",
      "\tje\tL688\n",
      "\tleaq\t16(%r11), %rsi\n",
      "\tleaq\t16(%r10), %rdi\n",
      "\tleaq\t16(%r8), %rcx\n",
      "Source line: 74\n",
      "\tmovq\t%r9, %rdx\n",
      "\tnop\n",
      "Source line: 151\n",
      "L352:\n",
      "\tmovupd\t-16(%rsi), %xmm0\n",
      "\tmovupd\t(%rsi), %xmm1\n",
      "\tmovupd\t-16(%rdi), %xmm2\n",
      "\tmovupd\t(%rdi), %xmm3\n",
      "Source line: 153\n",
      "\taddpd\t%xmm0, %xmm2\n",
      "\taddpd\t%xmm1, %xmm3\n",
      "Source line: 247\n",
      "\tmovupd\t%xmm2, -16(%rcx)\n",
      "\tmovupd\t%xmm3, (%rcx)\n",
      "Source line: 74\n",
      "\taddq\t$32, %rsi\n",
      "\taddq\t$32, %rdi\n",
      "\taddq\t$32, %rcx\n",
      "\taddq\t$-4, %rdx\n",
      "\tjne\tL352\n",
      "Source line: 0\n",
      "\tcmpq\t%r9, %rbx\n",
      "\tje\tL887\n",
      "\tjmp\tL691\n",
      "Source line: 151\n",
      "L419:\n",
      "\tmovq\t%rbx, %rdi\n",
      "\tandq\t$-4, %rdi\n",
      "\tje\tL754\n",
      "\tleaq\t16(%r10), %rcx\n",
      "\tleaq\t16(%r8), %rdx\n",
      "Source line: 74\n",
      "\tmovq\t%rdi, %rsi\n",
      "\tnopl\t(%rax,%rax)\n",
      "Source line: 151\n",
      "L448:\n",
      "\tmovsd\t(%r11), %xmm0           # xmm0 = mem[0],zero\n",
      "\tmovlhps\t%xmm0, %xmm0            # xmm0 = xmm0[0,0]\n",
      "\tmovupd\t-16(%rcx), %xmm1\n",
      "\tmovupd\t(%rcx), %xmm2\n",
      "Source line: 74\n",
      "\taddpd\t%xmm0, %xmm1\n",
      "\taddpd\t%xmm0, %xmm2\n",
      "Source line: 247\n",
      "\tmovupd\t%xmm1, -16(%rdx)\n",
      "\tmovupd\t%xmm2, (%rdx)\n",
      "Source line: 74\n",
      "\taddq\t$32, %rcx\n",
      "\taddq\t$32, %rdx\n",
      "\taddq\t$-4, %rsi\n",
      "\tjne\tL448\n",
      "Source line: 0\n",
      "\tcmpq\t%rdi, %rbx\n",
      "\tje\tL887\n",
      "\tjmp\tL756\n",
      "Source line: 151\n",
      "L510:\n",
      "\tmovq\t%rbx, %rdi\n",
      "\tandq\t$-4, %rdi\n",
      "\tje\tL796\n",
      "\tleaq\t16(%r11), %rcx\n",
      "\tleaq\t16(%r8), %rdx\n",
      "Source line: 74\n",
      "\tmovq\t%rdi, %rsi\n",
      "\tnopw\t%cs:(%rax,%rax)\n",
      "Source line: 151\n",
      "L544:\n",
      "\tmovupd\t-16(%rcx), %xmm0\n",
      "\tmovupd\t(%rcx), %xmm1\n",
      "Source line: 74\n",
      "\tmovsd\t(%r10), %xmm2           # xmm2 = mem[0],zero\n",
      "\tmovlhps\t%xmm2, %xmm2            # xmm2 = xmm2[0,0]\n",
      "\taddpd\t%xmm2, %xmm0\n",
      "\taddpd\t%xmm1, %xmm2\n",
      "Source line: 247\n",
      "\tmovupd\t%xmm0, -16(%rdx)\n",
      "\tmovupd\t%xmm2, (%rdx)\n",
      "Source line: 74\n",
      "\taddq\t$32, %rcx\n",
      "\taddq\t$32, %rdx\n",
      "\taddq\t$-4, %rsi\n",
      "\tjne\tL544\n",
      "Source line: 0\n",
      "\tcmpq\t%rdi, %rbx\n",
      "\tje\tL887\n",
      "\tjmp\tL798\n",
      "Source line: 151\n",
      "L606:\n",
      "\tmovq\t%rbx, %rdi\n",
      "\tandq\t$-4, %rdi\n",
      "\tje\tL844\n",
      "\tleaq\t16(%r8), %rcx\n",
      "Source line: 74\n",
      "\tmovq\t%rdi, %rdx\n",
      "\tnopw\t%cs:(%rax,%rax)\n",
      "Source line: 0\n",
      "L640:\n",
      "\tmovsd\t(%r11), %xmm0           # xmm0 = mem[0],zero\n",
      "\tmovsd\t(%r10), %xmm1           # xmm1 = mem[0],zero\n",
      "Source line: 74\n",
      "\taddpd\t%xmm0, %xmm1\n",
      "\tmovlhps\t%xmm1, %xmm1            # xmm1 = xmm1[0,0]\n",
      "Source line: 247\n",
      "\tmovups\t%xmm1, -16(%rcx)\n",
      "\tmovups\t%xmm1, (%rcx)\n",
      "Source line: 74\n",
      "\taddq\t$32, %rcx\n",
      "\taddq\t$-4, %rdx\n",
      "\tjne\tL640\n",
      "Source line: 0\n",
      "\tcmpq\t%rdi, %rbx\n",
      "\tje\tL887\n",
      "\tjmp\tL846\n",
      "L688:\n",
      "\txorl\t%r9d, %r9d\n",
      "Source line: 151\n",
      "L691:\n",
      "\tleaq\t(%r10,%r9,8), %rcx\n",
      "\tsubq\t%r9, %rbx\n",
      "\tleaq\t(%r8,%r9,8), %rdx\n",
      "\tleaq\t(%r11,%r9,8), %rsi\n",
      "\tnopw\t%cs:(%rax,%rax)\n",
      "L720:\n",
      "\tmovsd\t(%rsi), %xmm0           # xmm0 = mem[0],zero\n",
      "Source line: 153\n",
      "\taddsd\t(%rcx), %xmm0\n",
      "Source line: 247\n",
      "\tmovsd\t%xmm0, (%rdx)\n",
      "Source line: 71\n",
      "\taddq\t$8, %rcx\n",
      "\taddq\t$8, %rdx\n",
      "\taddq\t$8, %rsi\n",
      "\tdecq\t%rbx\n",
      "\tjne\tL720\n",
      "\tjmp\tL887\n",
      "Source line: 0\n",
      "L754:\n",
      "\txorl\t%edi, %edi\n",
      "Source line: 151\n",
      "L756:\n",
      "\tleaq\t(%r10,%rdi,8), %rcx\n",
      "\tsubq\t%rdi, %rbx\n",
      "\tleaq\t(%r8,%rdi,8), %rdx\n",
      "\tnop\n",
      "L768:\n",
      "\tmovsd\t(%r11), %xmm0           # xmm0 = mem[0],zero\n",
      "Source line: 153\n",
      "\taddsd\t(%rcx), %xmm0\n",
      "Source line: 247\n",
      "\tmovsd\t%xmm0, (%rdx)\n",
      "Source line: 71\n",
      "\taddq\t$8, %rcx\n",
      "\taddq\t$8, %rdx\n",
      "\tdecq\t%rbx\n",
      "\tjne\tL768\n",
      "\tjmp\tL887\n",
      "Source line: 0\n",
      "L796:\n",
      "\txorl\t%edi, %edi\n",
      "Source line: 151\n",
      "L798:\n",
      "\tleaq\t(%r11,%rdi,8), %rcx\n",
      "\tsubq\t%rdi, %rbx\n",
      "\tleaq\t(%r8,%rdi,8), %rdx\n",
      "\tnopl\t(%rax)\n",
      "L816:\n",
      "\tmovsd\t(%rcx), %xmm0           # xmm0 = mem[0],zero\n",
      "Source line: 153\n",
      "\taddsd\t(%r10), %xmm0\n",
      "Source line: 247\n",
      "\tmovsd\t%xmm0, (%rdx)\n",
      "Source line: 71\n",
      "\taddq\t$8, %rcx\n",
      "\taddq\t$8, %rdx\n",
      "\tdecq\t%rbx\n",
      "\tjne\tL816\n",
      "\tjmp\tL887\n",
      "Source line: 0\n",
      "L844:\n",
      "\txorl\t%edi, %edi\n",
      "Source line: 151\n",
      "L846:\n",
      "\tsubq\t%rdi, %rbx\n",
      "\tleaq\t(%r8,%rdi,8), %rcx\n",
      "\tnopw\t%cs:(%rax,%rax)\n",
      "L864:\n",
      "\tmovsd\t(%r11), %xmm0           # xmm0 = mem[0],zero\n",
      "Source line: 153\n",
      "\taddsd\t(%r10), %xmm0\n",
      "Source line: 247\n",
      "\tmovsd\t%xmm0, (%rcx)\n",
      "Source line: 71\n",
      "\taddq\t$8, %rcx\n",
      "\tdecq\t%rbx\n",
      "\tjne\tL864\n",
      "Source line: 247\n",
      "L887:\n",
      "\tmovq\t%rax, -72(%rbp)\n",
      "Source line: 38\n",
      "L891:\n",
      "\tmovq\t-88(%rbp), %rcx\n",
      "\tmovq\t%rcx, (%r12)\n",
      "\taddq\t$64, %rsp\n",
      "\tpopq\t%rbx\n",
      "\tpopq\t%r12\n",
      "\tpopq\t%r14\n",
      "\tpopq\t%r15\n",
      "\tpopq\t%rbp\n",
      "\tretq\n"
     ]
    }
   ],
   "source": [
    "@code_native [1.0,2.0] + [3.0,4.0]"
   ]
  },
  {
   "cell_type": "markdown",
   "metadata": {},
   "source": [
    "### StaticArrays to the rescue!"
   ]
  },
  {
   "cell_type": "code",
   "execution_count": 16,
   "metadata": {
    "collapsed": true
   },
   "outputs": [],
   "source": [
    "using StaticArrays"
   ]
  },
  {
   "cell_type": "code",
   "execution_count": 34,
   "metadata": {},
   "outputs": [
    {
     "data": {
      "text/plain": [
       "bench (generic function with 1 method)"
      ]
     },
     "execution_count": 34,
     "metadata": {},
     "output_type": "execute_result"
    }
   ],
   "source": [
    "function bench()\n",
    "    x = SVector(1.0, 2.0)\n",
    "    y = [1.0, 2.0]\n",
    "    z = (1.0,2.0)\n",
    "    \n",
    "    @btime $x + $x\n",
    "    @btime $y + $y\n",
    "    @btime addtwotuples($z,$z)\n",
    "end"
   ]
  },
  {
   "cell_type": "code",
   "execution_count": 35,
   "metadata": {},
   "outputs": [
    {
     "name": "stdout",
     "output_type": "stream",
     "text": [
      "  2.014 ns (0 allocations: 0 bytes)\n",
      "  32.620 ns (1 allocation: 96 bytes)\n",
      "  2.014 ns (0 allocations: 0 bytes)\n"
     ]
    },
    {
     "data": {
      "text/plain": [
       "(2.0, 4.0)"
      ]
     },
     "execution_count": 35,
     "metadata": {},
     "output_type": "execute_result"
    }
   ],
   "source": [
    "bench()"
   ]
  },
  {
   "cell_type": "code",
   "execution_count": 37,
   "metadata": {},
   "outputs": [
    {
     "name": "stdout",
     "output_type": "stream",
     "text": [
      "  2.014 ns (0 allocations: 0 bytes)\n"
     ]
    },
    {
     "data": {
      "text/plain": [
       "2-element SVector{2,Float64}:\n",
       " 4.0\n",
       " 6.0"
      ]
     },
     "execution_count": 37,
     "metadata": {},
     "output_type": "execute_result"
    }
   ],
   "source": [
    "@btime $v1+$v2"
   ]
  },
  {
   "cell_type": "code",
   "execution_count": 23,
   "metadata": {},
   "outputs": [
    {
     "name": "stdout",
     "output_type": "stream",
     "text": [
      "\t.text\n",
      "Filename: linalg.jl\n",
      "\tpushq\t%rbp\n",
      "\tmovq\t%rsp, %rbp\n",
      "Source line: 23\n",
      "\tmovsd\t(%rsi), %xmm0           # xmm0 = mem[0],zero\n",
      "\tmovsd\t8(%rsi), %xmm1          # xmm1 = mem[0],zero\n",
      "\taddsd\t(%rdx), %xmm0\n",
      "\taddsd\t8(%rdx), %xmm1\n",
      "Source line: 10\n",
      "\tmovsd\t%xmm0, (%rdi)\n",
      "\tmovsd\t%xmm1, 8(%rdi)\n",
      "\tmovq\t%rdi, %rax\n",
      "\tpopq\t%rbp\n",
      "\tretq\n",
      "\tnopw\t%cs:(%rax,%rax)\n"
     ]
    }
   ],
   "source": [
    "@code_native v1+v2"
   ]
  },
  {
   "cell_type": "code",
   "execution_count": null,
   "metadata": {
    "collapsed": true
   },
   "outputs": [],
   "source": []
  }
 ],
 "metadata": {
  "kernelspec": {
   "display_name": "Julia 0.6.0",
   "language": "julia",
   "name": "julia-0.6"
  },
  "language_info": {
   "file_extension": ".jl",
   "mimetype": "application/julia",
   "name": "julia",
   "version": "0.6.0"
  }
 },
 "nbformat": 4,
 "nbformat_minor": 1
}
