{
 "cells": [
  {
   "cell_type": "markdown",
   "metadata": {},
   "source": [
    "Note: This notebook is based on the JuliaCon 2017 workshop notebook by David P. Sanders, available here:\n",
    "https://github.com/dpsanders/julia_towards_1.0\n",
    "\n",
    "# Non-standard string literals"
   ]
  },
  {
   "cell_type": "markdown",
   "metadata": {},
   "source": [
    "Example: Write rationals using standard syntax (1/3)"
   ]
  },
  {
   "cell_type": "code",
   "execution_count": 1,
   "metadata": {},
   "outputs": [
    {
     "data": {
      "text/plain": [
       "@rat_str (macro with 1 method)"
      ]
     },
     "execution_count": 1,
     "metadata": {},
     "output_type": "execute_result"
    }
   ],
   "source": [
    "macro rat_str(s)\n",
    "    @show s\n",
    "    return nothing\n",
    "end"
   ]
  },
  {
   "cell_type": "code",
   "execution_count": 2,
   "metadata": {},
   "outputs": [
    {
     "name": "stdout",
     "output_type": "stream",
     "text": [
      "s = \"1/3\"\n"
     ]
    }
   ],
   "source": [
    "rat\"1/3\""
   ]
  },
  {
   "cell_type": "code",
   "execution_count": 3,
   "metadata": {},
   "outputs": [
    {
     "data": {
      "text/plain": [
       "@rat_str (macro with 1 method)"
      ]
     },
     "execution_count": 3,
     "metadata": {},
     "output_type": "execute_result"
    }
   ],
   "source": [
    "macro rat_str(s)\n",
    "    # @show s\n",
    "    \n",
    "    !contains(s, \"/\") && throw(ArgumentError(\"Must contain /\"))\n",
    "    \n",
    "    num, den = split(s, \"/\")\n",
    "    \n",
    "    # @show num, den\n",
    "    \n",
    "    n, d = parse.((num, den))\n",
    "    \n",
    "    return Rational(n, d)\n",
    "    \n",
    "end"
   ]
  },
  {
   "cell_type": "code",
   "execution_count": 6,
   "metadata": {},
   "outputs": [
    {
     "data": {
      "text/plain": [
       "1//3"
      ]
     },
     "execution_count": 6,
     "metadata": {},
     "output_type": "execute_result"
    }
   ],
   "source": [
    "rat\"1 / 3\""
   ]
  },
  {
   "cell_type": "markdown",
   "metadata": {},
   "source": [
    "- Metaprogramming: Access to structure of code expressions\n",
    "- Macros\n",
    "- MacroTools.jl"
   ]
  },
  {
   "cell_type": "markdown",
   "metadata": {},
   "source": [
    "# Expressions and syntax trees"
   ]
  },
  {
   "cell_type": "markdown",
   "metadata": {},
   "source": [
    "A Julia expression is an unevaluated tree of symbols. We can create an expression object using `:(...)` or `quote`:"
   ]
  },
  {
   "cell_type": "code",
   "execution_count": 29,
   "metadata": {},
   "outputs": [
    {
     "data": {
      "text/plain": [
       ":(x ^ 2 + y ^ 2)"
      ]
     },
     "execution_count": 29,
     "metadata": {},
     "output_type": "execute_result"
    }
   ],
   "source": [
    "ex = :(x^2 + y^2)"
   ]
  },
  {
   "cell_type": "code",
   "execution_count": 30,
   "metadata": {},
   "outputs": [
    {
     "data": {
      "text/plain": [
       "quote  # In[30], line 2:\n",
       "    x ^ 2 + y ^ 2\n",
       "end"
      ]
     },
     "execution_count": 30,
     "metadata": {},
     "output_type": "execute_result"
    }
   ],
   "source": [
    "ex = quote\n",
    "        x^2 + y^2\n",
    "end"
   ]
  },
  {
   "cell_type": "markdown",
   "metadata": {},
   "source": [
    "We can see the internal structure with `dump` or `Meta.show_sexpr`:"
   ]
  },
  {
   "cell_type": "code",
   "execution_count": 27,
   "metadata": {},
   "outputs": [
    {
     "name": "stdout",
     "output_type": "stream",
     "text": [
      "Expr\n",
      "  head: Symbol call\n",
      "  args: Array{Any}((3,))\n",
      "    1: Symbol +\n",
      "    2: Expr\n",
      "      head: Symbol call\n",
      "      args: Array{Any}((3,))\n",
      "        1: Symbol ^\n",
      "        2: Symbol x\n",
      "        3: Int64 2\n",
      "      typ: Any\n",
      "    3: Expr\n",
      "      head: Symbol call\n",
      "      args: Array{Any}((3,))\n",
      "        1: Symbol ^\n",
      "        2: Symbol y\n",
      "        3: Int64 2\n",
      "      typ: Any\n",
      "  typ: Any\n"
     ]
    }
   ],
   "source": [
    "dump(ex)"
   ]
  },
  {
   "cell_type": "code",
   "execution_count": 28,
   "metadata": {},
   "outputs": [
    {
     "name": "stdout",
     "output_type": "stream",
     "text": [
      "(:call, :+, (:call, :^, :x, 2), (:call, :^, :y, 2))"
     ]
    }
   ],
   "source": [
    "Meta.show_sexpr(ex)"
   ]
  },
  {
   "cell_type": "markdown",
   "metadata": {},
   "source": [
    "We can also see it visually with the `TreeView` package I wrote:"
   ]
  },
  {
   "cell_type": "code",
   "execution_count": 3,
   "metadata": {},
   "outputs": [
    {
     "name": "stderr",
     "output_type": "stream",
     "text": [
      "\u001b[1m\u001b[36mINFO: \u001b[39m\u001b[22m\u001b[36mPackage TreeView is already installed\n",
      "\u001b[39m\u001b[1m\u001b[36mINFO: \u001b[39m\u001b[22m\u001b[36mMETADATA is out-of-date — you may not have the latest version of TreeView\n",
      "\u001b[39m\u001b[1m\u001b[36mINFO: \u001b[39m\u001b[22m\u001b[36mUse `Pkg.update()` to get the latest versions of your packages\n",
      "\u001b[39m"
     ]
    }
   ],
   "source": [
    "Pkg.add(\"TreeView\")  # needs LaTeX installed on your system"
   ]
  },
  {
   "cell_type": "code",
   "execution_count": 6,
   "metadata": {},
   "outputs": [
    {
     "data": {
      "image/svg+xml": [
       "<?xml version=\"1.0\" encoding=\"UTF-8\"?>\n",
       "<svg xmlns=\"http://www.w3.org/2000/svg\" xmlns:xlink=\"http://www.w3.org/1999/xlink\" width=\"96.911pt\" height=\"69.262pt\" viewBox=\"0 0 96.911 69.262\" version=\"1.1\">\n",
       "<defs>\n",
       "<g>\n",
       "<symbol overflow=\"visible\" id=\"glyph-1497935739657300-0-0\">\n",
       "<path style=\"stroke:none;\" d=\"\"/>\n",
       "</symbol>\n",
       "<symbol overflow=\"visible\" id=\"glyph-1497935739657300-0-1\">\n",
       "<path style=\"stroke:none;\" d=\"M 4.84375 -3.046875 C 4.84375 -3.40625 4.5 -3.40625 4.375 -3.40625 L 2.953125 -3.40625 L 2.953125 -4.828125 C 2.953125 -4.9375 2.953125 -5.296875 2.609375 -5.296875 C 2.265625 -5.296875 2.265625 -4.9375 2.265625 -4.828125 L 2.265625 -3.40625 L 0.84375 -3.40625 C 0.734375 -3.40625 0.375 -3.40625 0.375 -3.046875 C 0.375 -2.703125 0.734375 -2.703125 0.84375 -2.703125 L 2.265625 -2.703125 L 2.265625 -1.28125 C 2.265625 -1.15625 2.265625 -0.8125 2.609375 -0.8125 C 2.953125 -0.8125 2.953125 -1.15625 2.953125 -1.28125 L 2.953125 -2.703125 L 4.375 -2.703125 C 4.5 -2.703125 4.84375 -2.703125 4.84375 -3.046875 Z M 4.84375 -3.046875 \"/>\n",
       "</symbol>\n",
       "<symbol overflow=\"visible\" id=\"glyph-1497935739657300-0-2\">\n",
       "<path style=\"stroke:none;\" d=\"M 4.9375 -0.296875 C 4.9375 -0.609375 4.6875 -0.609375 4.53125 -0.609375 L 4.140625 -0.609375 L 2.859375 -2.21875 L 4 -3.6875 L 4.390625 -3.6875 C 4.53125 -3.6875 4.8125 -3.6875 4.8125 -3.984375 C 4.8125 -4.296875 4.546875 -4.296875 4.390625 -4.296875 L 3.234375 -4.296875 C 3.078125 -4.296875 2.828125 -4.296875 2.828125 -4 C 2.828125 -3.6875 3.046875 -3.6875 3.3125 -3.6875 L 2.578125 -2.6875 L 1.828125 -3.6875 C 2.078125 -3.6875 2.296875 -3.6875 2.296875 -4 C 2.296875 -4.296875 2.046875 -4.296875 1.90625 -4.296875 L 0.734375 -4.296875 C 0.59375 -4.296875 0.328125 -4.296875 0.328125 -3.984375 C 0.328125 -3.6875 0.59375 -3.6875 0.734375 -3.6875 L 1.140625 -3.6875 L 2.3125 -2.21875 L 1.078125 -0.609375 L 0.671875 -0.609375 C 0.53125 -0.609375 0.265625 -0.609375 0.265625 -0.296875 C 0.265625 0 0.53125 0 0.671875 0 L 1.84375 0 C 2 0 2.25 0 2.25 -0.296875 C 2.25 -0.609375 2.03125 -0.609375 1.71875 -0.609375 L 2.578125 -1.828125 L 3.46875 -0.609375 C 3.1875 -0.609375 2.96875 -0.609375 2.96875 -0.296875 C 2.96875 0 3.21875 0 3.375 0 L 4.53125 0 C 4.671875 0 4.9375 0 4.9375 -0.296875 Z M 4.9375 -0.296875 \"/>\n",
       "</symbol>\n",
       "<symbol overflow=\"visible\" id=\"glyph-1497935739657300-0-3\">\n",
       "<path style=\"stroke:none;\" d=\"M 4.703125 -0.40625 L 4.703125 -0.671875 C 4.703125 -0.859375 4.703125 -1.078125 4.359375 -1.078125 C 4.015625 -1.078125 4.015625 -0.890625 4.015625 -0.609375 L 1.640625 -0.609375 C 2.234375 -1.109375 3.1875 -1.859375 3.625 -2.265625 C 4.25 -2.828125 4.703125 -3.453125 4.703125 -4.25 C 4.703125 -5.453125 3.703125 -6.203125 2.484375 -6.203125 C 1.3125 -6.203125 0.515625 -5.390625 0.515625 -4.53125 C 0.515625 -4.171875 0.796875 -4.0625 0.96875 -4.0625 C 1.171875 -4.0625 1.40625 -4.234375 1.40625 -4.5 C 1.40625 -4.625 1.359375 -4.75 1.265625 -4.828125 C 1.421875 -5.28125 1.890625 -5.59375 2.4375 -5.59375 C 3.25 -5.59375 4.015625 -5.140625 4.015625 -4.25 C 4.015625 -3.5625 3.53125 -2.984375 2.875 -2.4375 L 0.671875 -0.578125 C 0.578125 -0.5 0.515625 -0.453125 0.515625 -0.3125 C 0.515625 0 0.765625 0 0.921875 0 L 4.3125 0 C 4.640625 0 4.703125 -0.09375 4.703125 -0.40625 Z M 4.703125 -0.40625 \"/>\n",
       "</symbol>\n",
       "<symbol overflow=\"visible\" id=\"glyph-1497935739657300-0-4\">\n",
       "<path style=\"stroke:none;\" d=\"M 4.984375 -3.984375 C 4.984375 -4.296875 4.75 -4.296875 4.578125 -4.296875 L 3.421875 -4.296875 C 3.265625 -4.296875 3.015625 -4.296875 3.015625 -4 C 3.015625 -3.6875 3.265625 -3.6875 3.421875 -3.6875 L 3.703125 -3.6875 L 2.984375 -1.5625 C 2.84375 -1.203125 2.796875 -1.015625 2.71875 -0.703125 C 2.65625 -0.890625 2.578125 -1.109375 2.5 -1.296875 L 1.578125 -3.6875 L 1.828125 -3.6875 C 1.96875 -3.6875 2.21875 -3.6875 2.21875 -3.984375 C 2.21875 -4.296875 1.984375 -4.296875 1.828125 -4.296875 L 0.65625 -4.296875 C 0.5 -4.296875 0.265625 -4.296875 0.265625 -3.984375 C 0.265625 -3.6875 0.515625 -3.6875 0.65625 -3.6875 L 0.96875 -3.6875 L 2.375 -0.125 C 2.421875 -0.03125 2.421875 0 2.421875 0 C 2.421875 0 2.171875 0.84375 2.046875 1.09375 C 1.75 1.640625 1.390625 1.65625 1.25 1.671875 C 1.25 1.671875 1.296875 1.578125 1.296875 1.453125 C 1.296875 1.203125 1.109375 1.015625 0.875 1.015625 C 0.59375 1.015625 0.421875 1.203125 0.421875 1.453125 C 0.421875 1.875 0.765625 2.265625 1.25 2.265625 C 2.25 2.265625 2.703125 0.953125 2.734375 0.84375 L 4.28125 -3.6875 L 4.578125 -3.6875 C 4.734375 -3.6875 4.984375 -3.6875 4.984375 -3.984375 Z M 4.984375 -3.984375 \"/>\n",
       "</symbol>\n",
       "<symbol overflow=\"visible\" id=\"glyph-1497935739657300-1-0\">\n",
       "<path style=\"stroke:none;\" d=\"\"/>\n",
       "</symbol>\n",
       "<symbol overflow=\"visible\" id=\"glyph-1497935739657300-1-1\">\n",
       "<path style=\"stroke:none;\" d=\"M 5.59375 -5.828125 L 2.765625 -7.421875 L -0.046875 -5.828125 L 0.0625 -5.609375 L 2.765625 -6.828125 L 5.46875 -5.609375 Z M 5.59375 -5.828125 \"/>\n",
       "</symbol>\n",
       "</g>\n",
       "</defs>\n",
       "<g id=\"surface1\">\n",
       "<path style=\"fill:none;stroke-width:0.3985;stroke-linecap:butt;stroke-linejoin:miter;stroke:rgb(0%,0%,0%);stroke-opacity:1;stroke-miterlimit:10;\" d=\"M -3.083906 -6.166813 L -10.357344 -20.709781 \" transform=\"matrix(1,0,0,-1,48.455,5.966)\"/>\n",
       "<path style=\"fill:none;stroke-width:0.31879;stroke-linecap:round;stroke-linejoin:round;stroke:rgb(0%,0%,0%);stroke-opacity:1;stroke-miterlimit:10;\" d=\"M -1.19508 1.592791 C -1.097256 0.995333 0.00156727 0.0991379 0.300295 -0.000440961 C -0.000181444 -0.0982675 -1.097274 -0.99619 -1.195109 -1.595393 \" transform=\"matrix(-0.4472,0.89442,0.89442,0.4472,38.09953,26.67692)\"/>\n",
       "<path style=\"fill:none;stroke-width:0.3985;stroke-linecap:butt;stroke-linejoin:miter;stroke:rgb(0%,0%,0%);stroke-opacity:1;stroke-miterlimit:10;\" d=\"M 3.084063 -6.166813 L 10.353594 -20.709781 \" transform=\"matrix(1,0,0,-1,48.455,5.966)\"/>\n",
       "<path style=\"fill:none;stroke-width:0.31879;stroke-linecap:round;stroke-linejoin:round;stroke:rgb(0%,0%,0%);stroke-opacity:1;stroke-miterlimit:10;\" d=\"M -1.195039 1.595533 C -1.097204 0.99633 -0.000111567 0.0984072 0.300365 0.000580717 C 0.00163715 -0.0989981 -1.097186 -0.995193 -1.19501 -1.592651 \" transform=\"matrix(0.4472,0.89442,0.89442,-0.4472,58.81047,26.67692)\"/>\n",
       "<path style=\"fill:none;stroke-width:0.3985;stroke-linecap:butt;stroke-linejoin:miter;stroke:rgb(0%,0%,0%);stroke-opacity:1;stroke-miterlimit:10;\" d=\"M -20.462812 -34.635563 L -36.529219 -50.701969 \" transform=\"matrix(1,0,0,-1,48.455,5.966)\"/>\n",
       "<path style=\"fill:none;stroke-width:0.31879;stroke-linecap:round;stroke-linejoin:round;stroke:rgb(0%,0%,0%);stroke-opacity:1;stroke-miterlimit:10;\" d=\"M -1.196683 1.593301 C -1.097245 0.996674 -0.000666455 0.0989711 0.297647 -0.000466695 C -0.000666455 -0.0999045 -1.097245 -0.997607 -1.196683 -1.594234 \" transform=\"matrix(-0.7071,0.7071,0.7071,0.7071,11.92564,56.66877)\"/>\n",
       "<path style=\"fill:none;stroke-width:0.3985;stroke-linecap:butt;stroke-linejoin:miter;stroke:rgb(0%,0%,0%);stroke-opacity:1;stroke-miterlimit:10;\" d=\"M -14.17375 -35.573063 L -14.17375 -49.616031 \" transform=\"matrix(1,0,0,-1,48.455,5.966)\"/>\n",
       "<path style=\"fill:none;stroke-width:0.31879;stroke-linecap:round;stroke-linejoin:round;stroke:rgb(0%,0%,0%);stroke-opacity:1;stroke-miterlimit:10;\" d=\"M -1.196361 1.59339 C -1.094799 0.995734 -0.00104875 0.101202 0.299733 -0.00036 C -0.00104875 -0.0980163 -1.094799 -0.996454 -1.196361 -1.59411 \" transform=\"matrix(0,1,1,0,34.28161,55.58308)\"/>\n",
       "<path style=\"fill:none;stroke-width:0.3985;stroke-linecap:butt;stroke-linejoin:miter;stroke:rgb(0%,0%,0%);stroke-opacity:1;stroke-miterlimit:10;\" d=\"M 14.173906 -35.573063 L 14.173906 -49.432438 \" transform=\"matrix(1,0,0,-1,48.455,5.966)\"/>\n",
       "<path style=\"fill:none;stroke-width:0.31879;stroke-linecap:round;stroke-linejoin:round;stroke:rgb(0%,0%,0%);stroke-opacity:1;stroke-miterlimit:10;\" d=\"M -1.195665 1.594266 C -1.094102 0.99661 -0.0003525 0.0981725 0.300429 0.00051625 C -0.0003525 -0.101046 -1.094102 -0.995577 -1.195665 -1.593234 \" transform=\"matrix(0,1,1,0,62.62839,55.39879)\"/>\n",
       "<path style=\"fill:none;stroke-width:0.3985;stroke-linecap:butt;stroke-linejoin:miter;stroke:rgb(0%,0%,0%);stroke-opacity:1;stroke-miterlimit:10;\" d=\"M 20.462969 -34.635563 L 36.060625 -50.233219 \" transform=\"matrix(1,0,0,-1,48.455,5.966)\"/>\n",
       "<path style=\"fill:none;stroke-width:0.31879;stroke-linecap:round;stroke-linejoin:round;stroke:rgb(0%,0%,0%);stroke-opacity:1;stroke-miterlimit:10;\" d=\"M -1.197265 1.594331 C -1.095065 0.994941 -0.00124894 0.100001 0.297065 0.000563039 C -0.00124894 -0.0988748 -1.097827 -0.996578 -1.197265 -1.593205 \" transform=\"matrix(0.7071,0.7071,0.7071,-0.7071,84.51611,56.2005)\"/>\n",
       "<g style=\"fill:rgb(0%,0%,0%);fill-opacity:1;\">\n",
       "  <use xlink:href=\"#glyph-1497935739657300-0-1\" x=\"45.84\" y=\"8.611\"/>\n",
       "</g>\n",
       "<g style=\"fill:rgb(0%,0%,0%);fill-opacity:1;\">\n",
       "  <use xlink:href=\"#glyph-1497935739657300-1-1\" x=\"31.513\" y=\"38.018\"/>\n",
       "</g>\n",
       "<g style=\"fill:rgb(0%,0%,0%);fill-opacity:1;\">\n",
       "  <use xlink:href=\"#glyph-1497935739657300-0-2\" x=\"3.321\" y=\"64.806\"/>\n",
       "</g>\n",
       "<g style=\"fill:rgb(0%,0%,0%);fill-opacity:1;\">\n",
       "  <use xlink:href=\"#glyph-1497935739657300-0-3\" x=\"31.667\" y=\"65.757\"/>\n",
       "</g>\n",
       "<g style=\"fill:rgb(0%,0%,0%);fill-opacity:1;\">\n",
       "  <use xlink:href=\"#glyph-1497935739657300-1-1\" x=\"59.859\" y=\"38.018\"/>\n",
       "</g>\n",
       "<g style=\"fill:rgb(0%,0%,0%);fill-opacity:1;\">\n",
       "  <use xlink:href=\"#glyph-1497935739657300-0-4\" x=\"60.013\" y=\"63.67\"/>\n",
       "</g>\n",
       "<g style=\"fill:rgb(0%,0%,0%);fill-opacity:1;\">\n",
       "  <use xlink:href=\"#glyph-1497935739657300-0-3\" x=\"88.36\" y=\"65.757\"/>\n",
       "</g>\n",
       "</g>\n",
       "</svg>\n",
       "\n"
      ],
      "text/plain": [
       "TreeView.LabelledTree({7, 6} directed simple Int64 graph, Any[:+, :^, :x, 2, :^, :y, 2])"
      ]
     },
     "execution_count": 6,
     "metadata": {},
     "output_type": "execute_result"
    }
   ],
   "source": [
    "using TreeView\n",
    "\n",
    "@tree x^2 + y^2"
   ]
  },
  {
   "cell_type": "markdown",
   "metadata": {},
   "source": [
    "## Walking a tree"
   ]
  },
  {
   "cell_type": "markdown",
   "metadata": {
    "collapsed": true
   },
   "source": [
    "We can walk through a tree recursively:"
   ]
  },
  {
   "cell_type": "code",
   "execution_count": 17,
   "metadata": {},
   "outputs": [
    {
     "data": {
      "text/plain": [
       "traverse (generic function with 2 methods)"
      ]
     },
     "execution_count": 17,
     "metadata": {},
     "output_type": "execute_result"
    }
   ],
   "source": [
    "function traverse(ex)\n",
    "    println(\"Found $ex\")\n",
    "end\n",
    "        \n",
    "\n",
    "function traverse(ex::Expr)\n",
    "    println(\"Processing expression with head $(ex.head)\")\n",
    "    \n",
    "    for arg in ex.args\n",
    "        println(\"Processing argument $arg\")\n",
    "        \n",
    "        traverse(arg)  # recursive\n",
    "    end\n",
    "end\n",
    "   "
   ]
  },
  {
   "cell_type": "code",
   "execution_count": 18,
   "metadata": {},
   "outputs": [
    {
     "name": "stdout",
     "output_type": "stream",
     "text": [
      "Processing expression with head call\n",
      "Processing argument +\n",
      "Found +\n",
      "Processing argument x ^ 2\n",
      "Processing expression with head call\n",
      "Processing argument ^\n",
      "Found ^\n",
      "Processing argument x\n",
      "Found x\n",
      "Processing argument 2\n",
      "Found 2\n",
      "Processing argument y ^ 2\n",
      "Processing expression with head call\n",
      "Processing argument ^\n",
      "Found ^\n",
      "Processing argument y\n",
      "Found y\n",
      "Processing argument 2\n",
      "Found 2\n"
     ]
    }
   ],
   "source": [
    "traverse(:(x^2 + y^2))"
   ]
  },
  {
   "cell_type": "markdown",
   "metadata": {},
   "source": [
    "## Exercise"
   ]
  },
  {
   "cell_type": "markdown",
   "metadata": {},
   "source": [
    "Return a list of all the (non-numeric) symbols in the expression. Hint: you will need to keep track of all the symbols seen so far. "
   ]
  },
  {
   "cell_type": "markdown",
   "metadata": {},
   "source": [
    "## Solution to the exercise "
   ]
  },
  {
   "cell_type": "code",
   "execution_count": 7,
   "metadata": {},
   "outputs": [
    {
     "data": {
      "text/plain": [
       "traverse (generic function with 1 method)"
      ]
     },
     "execution_count": 7,
     "metadata": {},
     "output_type": "execute_result"
    }
   ],
   "source": [
    "function traverse!(ex, symbols)\n",
    "    # nothing here!\n",
    "end\n",
    "\n",
    "function traverse!(ex::Symbol, symbols)\n",
    "    push!(symbols, ex)\n",
    "end\n",
    "        \n",
    "\n",
    "function traverse!(ex::Expr, symbols)\n",
    "    \n",
    "    if ex.head == :call  # function call\n",
    "        \n",
    "        for arg in ex.args[2:end]\n",
    "            traverse!(arg, symbols)  # recursive\n",
    "        end\n",
    "        \n",
    "    else\n",
    "    \n",
    "        for arg in ex.args\n",
    "            traverse!(arg, symbols)  # recursive\n",
    "        end\n",
    "    end\n",
    "end\n",
    "\n",
    "function traverse(ex::Expr) \n",
    "    symbols = Symbol[]\n",
    "    traverse!(ex, symbols)\n",
    "    \n",
    "    return symbols\n",
    "end\n",
    "    "
   ]
  },
  {
   "cell_type": "code",
   "execution_count": 8,
   "metadata": {},
   "outputs": [
    {
     "name": "stdout",
     "output_type": "stream",
     "text": [
      "(:call, :+, 3, 4)"
     ]
    }
   ],
   "source": [
    "Meta.show_sexpr(:(3 + 4))"
   ]
  },
  {
   "cell_type": "code",
   "execution_count": 9,
   "metadata": {},
   "outputs": [
    {
     "data": {
      "text/plain": [
       "2-element Array{Symbol,1}:\n",
       " :x\n",
       " :y"
      ]
     },
     "execution_count": 9,
     "metadata": {},
     "output_type": "execute_result"
    }
   ],
   "source": [
    "traverse(:(x^2 + y^2))"
   ]
  },
  {
   "cell_type": "code",
   "execution_count": 10,
   "metadata": {},
   "outputs": [
    {
     "data": {
      "text/plain": [
       "3-element Array{Symbol,1}:\n",
       " :x\n",
       " :y\n",
       " :x"
      ]
     },
     "execution_count": 10,
     "metadata": {},
     "output_type": "execute_result"
    }
   ],
   "source": [
    "traverse(:(x^2 + y^2 + x))"
   ]
  },
  {
   "cell_type": "markdown",
   "metadata": {},
   "source": [
    "## Exercise"
   ]
  },
  {
   "cell_type": "markdown",
   "metadata": {},
   "source": [
    "Remove the duplication in the list."
   ]
  },
  {
   "cell_type": "markdown",
   "metadata": {},
   "source": [
    "## Building a function"
   ]
  },
  {
   "cell_type": "markdown",
   "metadata": {},
   "source": [
    "Now let's build a function using the list of symbols:"
   ]
  },
  {
   "cell_type": "code",
   "execution_count": 11,
   "metadata": {},
   "outputs": [
    {
     "data": {
      "text/plain": [
       "build_function (generic function with 1 method)"
      ]
     },
     "execution_count": 11,
     "metadata": {},
     "output_type": "execute_result"
    }
   ],
   "source": [
    "function build_function(ex::Expr)\n",
    "    symbols = unique(traverse(ex))\n",
    "    \n",
    "    symbol_tuple = Expr(:tuple, symbols...)\n",
    "end"
   ]
  },
  {
   "cell_type": "code",
   "execution_count": 12,
   "metadata": {},
   "outputs": [
    {
     "data": {
      "text/plain": [
       ":((x, y))"
      ]
     },
     "execution_count": 12,
     "metadata": {},
     "output_type": "execute_result"
    }
   ],
   "source": [
    "build_function(:(x^2 + y^2))"
   ]
  },
  {
   "cell_type": "code",
   "execution_count": 13,
   "metadata": {},
   "outputs": [
    {
     "data": {
      "text/plain": [
       "build_function (generic function with 1 method)"
      ]
     },
     "execution_count": 13,
     "metadata": {},
     "output_type": "execute_result"
    }
   ],
   "source": [
    "function build_function(ex::Expr)\n",
    "    symbols = unique(traverse(ex))\n",
    "    \n",
    "    symbol_tuple = Expr(:tuple, symbols...)\n",
    "    \n",
    "    :($symbol_tuple -> $ex)\n",
    "end"
   ]
  },
  {
   "cell_type": "code",
   "execution_count": 14,
   "metadata": {},
   "outputs": [
    {
     "data": {
      "text/plain": [
       ":((x, y)->begin  # In[13], line 6:\n",
       "            x ^ 2 + y ^ 2 + x\n",
       "        end)"
      ]
     },
     "execution_count": 14,
     "metadata": {},
     "output_type": "execute_result"
    }
   ],
   "source": [
    "build_function(:(x^2 + y^2 + x))"
   ]
  },
  {
   "cell_type": "markdown",
   "metadata": {},
   "source": [
    "# Macros"
   ]
  },
  {
   "cell_type": "markdown",
   "metadata": {},
   "source": [
    "To make this user-friendly, we need to write a **macro**. \n",
    "This is a kind of \"super-function\": it takes as argument an expression, from which it calculates a new expression.\n",
    "When the macro returns, the new expression is **automatically evaluated**.    \n",
    "\n",
    "Furthermore, the argument of the macro is **automatically converted** into an `Expr` object:"
   ]
  },
  {
   "cell_type": "code",
   "execution_count": 19,
   "metadata": {},
   "outputs": [
    {
     "data": {
      "text/plain": [
       "@make_function (macro with 1 method)"
      ]
     },
     "execution_count": 19,
     "metadata": {},
     "output_type": "execute_result"
    }
   ],
   "source": [
    "macro make_function(ex)\n",
    "    return build_function(ex)\n",
    "end"
   ]
  },
  {
   "cell_type": "code",
   "execution_count": 21,
   "metadata": {},
   "outputs": [
    {
     "data": {
      "text/plain": [
       "(::#3) (generic function with 1 method)"
      ]
     },
     "execution_count": 21,
     "metadata": {},
     "output_type": "execute_result"
    }
   ],
   "source": [
    "f = @make_function x^2 + y^2 + x"
   ]
  },
  {
   "cell_type": "code",
   "execution_count": 22,
   "metadata": {},
   "outputs": [
    {
     "data": {
      "text/plain": [
       "28"
      ]
     },
     "execution_count": 22,
     "metadata": {},
     "output_type": "execute_result"
    }
   ],
   "source": [
    "f(3, 4)"
   ]
  },
  {
   "cell_type": "markdown",
   "metadata": {},
   "source": [
    "We can use `@macroexpand` to see what effect a macro has:"
   ]
  },
  {
   "cell_type": "markdown",
   "metadata": {},
   "source": [
    "The macro **replaces** the original piece of code before the new piece, before any evaluation takes place."
   ]
  },
  {
   "cell_type": "markdown",
   "metadata": {},
   "source": [
    "## Exercise\n",
    "Make a macro that turns + into -, e.g.:\n",
    "`1+2` becomes `1-2`.\n",
    "\n",
    "### Hint 1\n",
    "Check the structure of some possibilities:"
   ]
  },
  {
   "cell_type": "code",
   "execution_count": 11,
   "metadata": {},
   "outputs": [
    {
     "name": "stdout",
     "output_type": "stream",
     "text": [
      "Expr\n",
      "  head: Symbol call\n",
      "  args: Array{Any}((3,))\n",
      "    1: Symbol +\n",
      "    2: Int64 1\n",
      "    3: Int64 2\n",
      "  typ: Any\n"
     ]
    }
   ],
   "source": [
    "dump(:(1+2))"
   ]
  },
  {
   "cell_type": "code",
   "execution_count": 12,
   "metadata": {},
   "outputs": [
    {
     "name": "stdout",
     "output_type": "stream",
     "text": [
      "Expr\n",
      "  head: Symbol call\n",
      "  args: Array{Any}((4,))\n",
      "    1: Symbol +\n",
      "    2: Int64 1\n",
      "    3: Int64 2\n",
      "    4: Int64 3\n",
      "  typ: Any\n"
     ]
    }
   ],
   "source": [
    "dump(:(1+2+3))"
   ]
  },
  {
   "cell_type": "code",
   "execution_count": 16,
   "metadata": {},
   "outputs": [
    {
     "name": "stdout",
     "output_type": "stream",
     "text": [
      "Expr\n",
      "  head: Symbol call\n",
      "  args: Array{Any}((3,))\n",
      "    1: Symbol *\n",
      "    2: Expr\n",
      "      head: Symbol call\n",
      "      args: Array{Any}((3,))\n",
      "        1: Symbol -\n",
      "        2: Int64 1\n",
      "        3: Int64 2\n",
      "      typ: Any\n",
      "    3: Expr\n",
      "      head: Symbol call\n",
      "      args: Array{Any}((3,))\n",
      "        1: Symbol -\n",
      "        2: Int64 3\n",
      "        3: Int64 2\n",
      "      typ: Any\n",
      "  typ: Any\n"
     ]
    }
   ],
   "source": [
    "dump(:((1-2)*(3-2)))"
   ]
  },
  {
   "cell_type": "markdown",
   "metadata": {},
   "source": [
    "### Hint 2\n",
    "Use a recursive function to traverse the expression tree:"
   ]
  },
  {
   "cell_type": "code",
   "execution_count": 5,
   "metadata": {},
   "outputs": [
    {
     "data": {
      "text/plain": [
       "@plustominus (macro with 1 method)"
      ]
     },
     "execution_count": 5,
     "metadata": {},
     "output_type": "execute_result"
    }
   ],
   "source": [
    "function replace_symbol!(ex, s::Symbol, replacement::Symbol)\n",
    "    # return the replacement when ex matches s\n",
    "end\n",
    "\n",
    "function replace_symbol!(ex::Expr, s::Symbol, replacement::Symbol)\n",
    "    # loop over ex.args, replacing each using replace_symbol!\n",
    "end\n",
    "\n",
    "macro plustominus(ex)\n",
    "    # use the function here to return the transformed expression\n",
    "end"
   ]
  },
  {
   "cell_type": "code",
   "execution_count": 8,
   "metadata": {},
   "outputs": [
    {
     "data": {
      "text/plain": [
       ":((1 - 2) * (3 - 2))"
      ]
     },
     "execution_count": 8,
     "metadata": {},
     "output_type": "execute_result"
    }
   ],
   "source": [
    "@macroexpand @plustominus (1+2)*(3+2)"
   ]
  },
  {
   "cell_type": "code",
   "execution_count": 9,
   "metadata": {},
   "outputs": [
    {
     "data": {
      "text/plain": [
       ":(-(1, 2, 3) - 4)"
      ]
     },
     "execution_count": 9,
     "metadata": {},
     "output_type": "execute_result"
    }
   ],
   "source": [
    "@macroexpand @plustominus 1+2+3-4"
   ]
  },
  {
   "cell_type": "code",
   "execution_count": 10,
   "metadata": {},
   "outputs": [
    {
     "ename": "LoadError",
     "evalue": "\u001b[91mMethodError: no method matching -(::Int64, ::Int64, ::Int64)\u001b[0m\nClosest candidates are:\n  -(::T<:Union{Int128, Int16, Int32, Int64, Int8, UInt128, UInt16, UInt32, UInt64, UInt8}, ::T<:Union{Int128, Int16, Int32, Int64, Int8, UInt128, UInt16, UInt32, UInt64, UInt8}) where T<:Union{Int128, Int16, Int32, Int64, Int8, UInt128, UInt16, UInt32, UInt64, UInt8} at int.jl:31\n  -(::T<:Number, ::T<:Number) where T<:Number at promotion.jl:337\n  -(::Number, ::Number) at promotion.jl:251\n  ...\u001b[39m",
     "output_type": "error",
     "traceback": [
      "\u001b[91mMethodError: no method matching -(::Int64, ::Int64, ::Int64)\u001b[0m\nClosest candidates are:\n  -(::T<:Union{Int128, Int16, Int32, Int64, Int8, UInt128, UInt16, UInt32, UInt64, UInt8}, ::T<:Union{Int128, Int16, Int32, Int64, Int8, UInt128, UInt16, UInt32, UInt64, UInt8}) where T<:Union{Int128, Int16, Int32, Int64, Int8, UInt128, UInt16, UInt32, UInt64, UInt8} at int.jl:31\n  -(::T<:Number, ::T<:Number) where T<:Number at promotion.jl:337\n  -(::Number, ::Number) at promotion.jl:251\n  ...\u001b[39m",
      ""
     ]
    }
   ],
   "source": [
    "@plustominus 1+2+3-4"
   ]
  },
  {
   "cell_type": "markdown",
   "metadata": {},
   "source": [
    "Note that the recursion behavior for macros is different:"
   ]
  },
  {
   "cell_type": "code",
   "execution_count": 1,
   "metadata": {},
   "outputs": [
    {
     "ename": "LoadError",
     "evalue": "\u001b[91mUndefVarError: @testrecurse not defined\u001b[39m",
     "output_type": "error",
     "traceback": [
      "\u001b[91mUndefVarError: @testrecurse not defined\u001b[39m",
      ""
     ]
    }
   ],
   "source": [
    "macro testrecurse(x)\n",
    "    if x == 1\n",
    "        return x\n",
    "    end\n",
    "    println(\"decrementing $x\")\n",
    "    @testrecurse x-1\n",
    "end"
   ]
  },
  {
   "cell_type": "code",
   "execution_count": 2,
   "metadata": {},
   "outputs": [
    {
     "data": {
      "text/plain": [
       "testrecursef (generic function with 1 method)"
      ]
     },
     "execution_count": 2,
     "metadata": {},
     "output_type": "execute_result"
    }
   ],
   "source": [
    "function testrecursef(x)\n",
    "    if x == 1\n",
    "        return x\n",
    "    end\n",
    "    println(\"decrementing $x\")\n",
    "    testrecursef(x-1)\n",
    "end"
   ]
  },
  {
   "cell_type": "code",
   "execution_count": 3,
   "metadata": {},
   "outputs": [
    {
     "name": "stdout",
     "output_type": "stream",
     "text": [
      "decrementing 3\n",
      "decrementing 2\n"
     ]
    },
    {
     "data": {
      "text/plain": [
       "1"
      ]
     },
     "execution_count": 3,
     "metadata": {},
     "output_type": "execute_result"
    }
   ],
   "source": [
    "testrecursef(3)"
   ]
  },
  {
   "cell_type": "markdown",
   "metadata": {},
   "source": [
    "## Dict example\n",
    "A Dict is an associative container:"
   ]
  },
  {
   "cell_type": "code",
   "execution_count": 8,
   "metadata": {},
   "outputs": [
    {
     "data": {
      "text/plain": [
       "Dict{String,Int64} with 3 entries:\n",
       "  \"c\" => 7\n",
       "  \"b\" => 5\n",
       "  \"a\" => 1"
      ]
     },
     "execution_count": 8,
     "metadata": {},
     "output_type": "execute_result"
    }
   ],
   "source": [
    "mydict = Dict(\"a\"=>1, \"b\"=>5, \"c\"=>7)"
   ]
  },
  {
   "cell_type": "code",
   "execution_count": 9,
   "metadata": {},
   "outputs": [
    {
     "data": {
      "text/plain": [
       "1"
      ]
     },
     "execution_count": 9,
     "metadata": {},
     "output_type": "execute_result"
    }
   ],
   "source": [
    "mydict[\"a\"]"
   ]
  },
  {
   "cell_type": "code",
   "execution_count": 10,
   "metadata": {},
   "outputs": [
    {
     "data": {
      "text/plain": [
       "7"
      ]
     },
     "execution_count": 10,
     "metadata": {},
     "output_type": "execute_result"
    }
   ],
   "source": [
    "mydict[\"c\"]"
   ]
  },
  {
   "cell_type": "code",
   "execution_count": 11,
   "metadata": {},
   "outputs": [
    {
     "ename": "LoadError",
     "evalue": "\u001b[91mKeyError: key \"d\" not found\u001b[39m",
     "output_type": "error",
     "traceback": [
      "\u001b[91mKeyError: key \"d\" not found\u001b[39m",
      "",
      "Stacktrace:",
      " [1] \u001b[1mgetindex\u001b[22m\u001b[22m\u001b[1m(\u001b[22m\u001b[22m::Dict{String,Int64}, ::String\u001b[1m)\u001b[22m\u001b[22m at \u001b[1m./dict.jl:474\u001b[22m\u001b[22m"
     ]
    }
   ],
   "source": [
    "mydict[\"d\"]"
   ]
  },
  {
   "cell_type": "code",
   "execution_count": 12,
   "metadata": {},
   "outputs": [
    {
     "data": {
      "text/plain": [
       "13"
      ]
     },
     "execution_count": 12,
     "metadata": {},
     "output_type": "execute_result"
    }
   ],
   "source": [
    "mydict[\"d\"] = 13"
   ]
  },
  {
   "cell_type": "code",
   "execution_count": 13,
   "metadata": {},
   "outputs": [
    {
     "data": {
      "text/plain": [
       "13"
      ]
     },
     "execution_count": 13,
     "metadata": {},
     "output_type": "execute_result"
    }
   ],
   "source": [
    "mydict[\"d\"]"
   ]
  },
  {
   "cell_type": "markdown",
   "metadata": {},
   "source": [
    "Can you write a macro that makes it possible to access Dict elements using \".\", e.g.\n",
    "```\n",
    "@dictdot mydict.d\n",
    "=> 13\n",
    "```"
   ]
  },
  {
   "cell_type": "code",
   "execution_count": 14,
   "metadata": {},
   "outputs": [
    {
     "name": "stdout",
     "output_type": "stream",
     "text": [
      "Expr\n",
      "  head: Symbol .\n",
      "  args: Array{Any}((2,))\n",
      "    1: Symbol mydict\n",
      "    2: QuoteNode\n",
      "      value: Symbol d\n",
      "  typ: Any\n"
     ]
    }
   ],
   "source": [
    "dump(:(mydict.d))"
   ]
  },
  {
   "cell_type": "code",
   "execution_count": 27,
   "metadata": {},
   "outputs": [
    {
     "data": {
      "text/plain": [
       "@dictdot (macro with 1 method)"
      ]
     },
     "execution_count": 27,
     "metadata": {},
     "output_type": "execute_result"
    }
   ],
   "source": [
    "macro dictdot(ex)\n",
    "    if isa(ex, Expr) && ex.head == :(.)\n",
    "        return :($(ex.args[1])[$(string(ex.args[2].args[1]))])\n",
    "    end\n",
    "end"
   ]
  },
  {
   "cell_type": "code",
   "execution_count": 30,
   "metadata": {},
   "outputs": [
    {
     "data": {
      "text/plain": [
       "13"
      ]
     },
     "execution_count": 30,
     "metadata": {},
     "output_type": "execute_result"
    }
   ],
   "source": [
    "@dictdot mydict.d"
   ]
  },
  {
   "cell_type": "markdown",
   "metadata": {},
   "source": [
    "Note that hygiene will ruin it in a module:"
   ]
  },
  {
   "cell_type": "code",
   "execution_count": 31,
   "metadata": {},
   "outputs": [
    {
     "data": {
      "text/plain": [
       ":((Main.mydict)[\"d\"])"
      ]
     },
     "execution_count": 31,
     "metadata": {},
     "output_type": "execute_result"
    }
   ],
   "source": [
    "@macroexpand @dictdot mydict.d"
   ]
  },
  {
   "cell_type": "code",
   "execution_count": 32,
   "metadata": {},
   "outputs": [
    {
     "data": {
      "text/plain": [
       "MyDictMod"
      ]
     },
     "execution_count": 32,
     "metadata": {},
     "output_type": "execute_result"
    }
   ],
   "source": [
    "module MyDictMod\n",
    "    macro dictdot(ex)\n",
    "        if isa(ex, Expr) && ex.head == :(.)\n",
    "            return :($(ex.args[1])[$(string(ex.args[2].args[1]))])\n",
    "        end\n",
    "    end\n",
    "end"
   ]
  },
  {
   "cell_type": "code",
   "execution_count": 33,
   "metadata": {
    "collapsed": true
   },
   "outputs": [],
   "source": [
    "using MyDictMod"
   ]
  },
  {
   "cell_type": "code",
   "execution_count": 34,
   "metadata": {},
   "outputs": [
    {
     "ename": "LoadError",
     "evalue": "\u001b[91mUndefVarError: mydict not defined\u001b[39m",
     "output_type": "error",
     "traceback": [
      "\u001b[91mUndefVarError: mydict not defined\u001b[39m",
      ""
     ]
    }
   ],
   "source": [
    "MyDictMod.@dictdot mydict.d"
   ]
  },
  {
   "cell_type": "code",
   "execution_count": 35,
   "metadata": {},
   "outputs": [
    {
     "data": {
      "text/plain": [
       ":((MyDictMod.mydict)[\"d\"])"
      ]
     },
     "execution_count": 35,
     "metadata": {},
     "output_type": "execute_result"
    }
   ],
   "source": [
    "@macroexpand MyDictMod.@dictdot mydict.d"
   ]
  },
  {
   "cell_type": "markdown",
   "metadata": {},
   "source": [
    "Solution: escape the expression!"
   ]
  },
  {
   "cell_type": "code",
   "execution_count": 36,
   "metadata": {},
   "outputs": [
    {
     "data": {
      "text/plain": [
       "MyDictModEscaped"
      ]
     },
     "execution_count": 36,
     "metadata": {},
     "output_type": "execute_result"
    }
   ],
   "source": [
    "module MyDictModEscaped\n",
    "    macro dictdot(ex)\n",
    "        if isa(ex, Expr) && ex.head == :(.)\n",
    "            return :($(esc(ex.args[1]))[$(string(ex.args[2].args[1]))])\n",
    "        end\n",
    "    end\n",
    "end"
   ]
  },
  {
   "cell_type": "code",
   "execution_count": 37,
   "metadata": {},
   "outputs": [
    {
     "data": {
      "text/plain": [
       "13"
      ]
     },
     "execution_count": 37,
     "metadata": {},
     "output_type": "execute_result"
    }
   ],
   "source": [
    "MyDictModEscaped.@dictdot mydict.d"
   ]
  },
  {
   "cell_type": "code",
   "execution_count": 38,
   "metadata": {},
   "outputs": [
    {
     "data": {
      "text/plain": [
       ":(mydict[\"d\"])"
      ]
     },
     "execution_count": 38,
     "metadata": {},
     "output_type": "execute_result"
    }
   ],
   "source": [
    "@macroexpand MyDictModEscaped.@dictdot mydict.d"
   ]
  },
  {
   "cell_type": "markdown",
   "metadata": {},
   "source": [
    "# Generated functions\n",
    "The following shows how to create an efficient fixed-size matrix product"
   ]
  },
  {
   "cell_type": "code",
   "execution_count": 3,
   "metadata": {},
   "outputs": [
    {
     "data": {
      "text/plain": [
       "FixedMat"
      ]
     },
     "execution_count": 3,
     "metadata": {},
     "output_type": "execute_result"
    }
   ],
   "source": [
    "\"\"\"\n",
    "Statically sized matrix with number type T\n",
    "\"\"\"\n",
    "struct FixedMat{T, Rows, Cols}\n",
    "    \"\"\"\n",
    "    The Matrix coefficients are stored as a tuple of rows, with each row itself a tuple\n",
    "    \"\"\"\n",
    "    coefs::NTuple{Rows,NTuple{Cols,T}}\n",
    "end"
   ]
  },
  {
   "cell_type": "code",
   "execution_count": 5,
   "metadata": {},
   "outputs": [
    {
     "data": {
      "text/plain": [
       "FixedMat{Float64,2,2}(((1.0, 2.0), (3.0, 4.0)))"
      ]
     },
     "execution_count": 5,
     "metadata": {},
     "output_type": "execute_result"
    }
   ],
   "source": [
    "# Construction\n",
    "FixedMat(((1.0,2.0),(3.0,4.0)))"
   ]
  },
  {
   "cell_type": "code",
   "execution_count": 6,
   "metadata": {},
   "outputs": [
    {
     "data": {
      "text/plain": [
       "* (generic function with 182 methods)"
      ]
     },
     "execution_count": 6,
     "metadata": {},
     "output_type": "execute_result"
    }
   ],
   "source": [
    "# Basic multiplication overload throws an error\n",
    "import Base.*\n",
    "*(A::FixedMat, B::FixedMat) = error(\"Invalid matrix multiplication: $(typeof(A)) ⋅ $(typeof(B))\")"
   ]
  },
  {
   "cell_type": "code",
   "execution_count": 7,
   "metadata": {},
   "outputs": [
    {
     "ename": "LoadError",
     "evalue": "\u001b[91mInvalid matrix multiplication: FixedMat{Float64,2,2} ⋅ FixedMat{Float64,2,2}\u001b[39m",
     "output_type": "error",
     "traceback": [
      "\u001b[91mInvalid matrix multiplication: FixedMat{Float64,2,2} ⋅ FixedMat{Float64,2,2}\u001b[39m",
      "",
      "Stacktrace:",
      " [1] \u001b[1m*\u001b[22m\u001b[22m\u001b[1m(\u001b[22m\u001b[22m::FixedMat{Float64,2,2}, ::FixedMat{Float64,2,2}\u001b[1m)\u001b[22m\u001b[22m at \u001b[1m./In[6]:3\u001b[22m\u001b[22m"
     ]
    }
   ],
   "source": [
    "#test\n",
    "FixedMat(((1.0,2.0),(3.0,4.0))) * FixedMat(((1.0,2.0),(3.0,4.0)))"
   ]
  },
  {
   "cell_type": "markdown",
   "metadata": {},
   "source": [
    "Let's see the difference between a macro, a function and a generated function"
   ]
  },
  {
   "cell_type": "code",
   "execution_count": 15,
   "metadata": {},
   "outputs": [
    {
     "data": {
      "text/plain": [
       "normalfoo (generic function with 1 method)"
      ]
     },
     "execution_count": 15,
     "metadata": {},
     "output_type": "execute_result"
    }
   ],
   "source": [
    "function normalfoo(x)\n",
    "    println(\"x: $x\")\n",
    "    return 1\n",
    "end"
   ]
  },
  {
   "cell_type": "code",
   "execution_count": 16,
   "metadata": {},
   "outputs": [
    {
     "data": {
      "text/plain": [
       "@macrofoo (macro with 1 method)"
      ]
     },
     "execution_count": 16,
     "metadata": {},
     "output_type": "execute_result"
    }
   ],
   "source": [
    "macro macrofoo(x)\n",
    "    println(\"x: $x\")\n",
    "    return :(1)\n",
    "end"
   ]
  },
  {
   "cell_type": "code",
   "execution_count": 17,
   "metadata": {},
   "outputs": [
    {
     "data": {
      "text/plain": [
       "generatedfoo (generic function with 1 method)"
      ]
     },
     "execution_count": 17,
     "metadata": {},
     "output_type": "execute_result"
    }
   ],
   "source": [
    "@generated function generatedfoo(x) # x is actually the type of the argument!\n",
    "    # Called only at compile-time, normal println not allowed!\n",
    "    ccall(:jl_,Void,(Any,), \"x: $x\")\n",
    "    return :(1) # Like macros, generated functions return an expression, which is the body of the function here\n",
    "end"
   ]
  },
  {
   "cell_type": "code",
   "execution_count": 18,
   "metadata": {},
   "outputs": [
    {
     "data": {
      "text/plain": [
       "2.0"
      ]
     },
     "execution_count": 18,
     "metadata": {},
     "output_type": "execute_result"
    }
   ],
   "source": [
    "arg = 2.0"
   ]
  },
  {
   "cell_type": "code",
   "execution_count": 19,
   "metadata": {},
   "outputs": [
    {
     "name": "stdout",
     "output_type": "stream",
     "text": [
      "x: 2.0\n"
     ]
    },
    {
     "data": {
      "text/plain": [
       "1"
      ]
     },
     "execution_count": 19,
     "metadata": {},
     "output_type": "execute_result"
    }
   ],
   "source": [
    "normalfoo(arg)"
   ]
  },
  {
   "cell_type": "code",
   "execution_count": 20,
   "metadata": {},
   "outputs": [
    {
     "name": "stdout",
     "output_type": "stream",
     "text": [
      "x: arg\n"
     ]
    },
    {
     "data": {
      "text/plain": [
       "1"
      ]
     },
     "execution_count": 20,
     "metadata": {},
     "output_type": "execute_result"
    }
   ],
   "source": [
    "@macrofoo arg"
   ]
  },
  {
   "cell_type": "code",
   "execution_count": 21,
   "metadata": {},
   "outputs": [
    {
     "name": "stderr",
     "output_type": "stream",
     "text": [
      "\"x: Float64\"\n"
     ]
    },
    {
     "data": {
      "text/plain": [
       "1"
      ]
     },
     "execution_count": 21,
     "metadata": {},
     "output_type": "execute_result"
    }
   ],
   "source": [
    "generatedfoo(arg)"
   ]
  },
  {
   "cell_type": "code",
   "execution_count": 22,
   "metadata": {},
   "outputs": [
    {
     "data": {
      "text/plain": [
       "1"
      ]
     },
     "execution_count": 22,
     "metadata": {},
     "output_type": "execute_result"
    }
   ],
   "source": [
    "# Was already compiled for FLoat64:\n",
    "generatedfoo(3.0)"
   ]
  },
  {
   "cell_type": "code",
   "execution_count": 23,
   "metadata": {},
   "outputs": [
    {
     "name": "stderr",
     "output_type": "stream",
     "text": [
      "\"x: Int64\"\n"
     ]
    },
    {
     "data": {
      "text/plain": [
       "1"
      ]
     },
     "execution_count": 23,
     "metadata": {},
     "output_type": "execute_result"
    }
   ],
   "source": [
    "# Not for Int:\n",
    "generatedfoo(1)"
   ]
  },
  {
   "cell_type": "markdown",
   "metadata": {},
   "source": [
    "Now we know what a generated function is, let's implement the matrix multiplication:"
   ]
  },
  {
   "cell_type": "code",
   "execution_count": 72,
   "metadata": {},
   "outputs": [
    {
     "data": {
      "text/plain": [
       "* (generic function with 183 methods)"
      ]
     },
     "execution_count": 72,
     "metadata": {},
     "output_type": "execute_result"
    }
   ],
   "source": [
    "@generated function *(A::FixedMat{T,Rows,N}, B::FixedMat{T,N,Cols}) where {T,Rows,Cols,N}\n",
    "    rowexprs = Expr[]\n",
    "    for row in 1:Rows\n",
    "        rowex = :(()) # empty row tuple\n",
    "        for col in 1:Cols\n",
    "            elex = :(+()) # Each element is a sum\n",
    "            for i in 1:N\n",
    "                push!(elex.args, :(A.coefs[$row][$i]*B.coefs[$i][$col]))\n",
    "            end\n",
    "            push!(rowex.args, elex)\n",
    "        end\n",
    "        push!(rowexprs, rowex)\n",
    "    end\n",
    "    return quote # quote is a multi-line version of :() for expressions\n",
    "        return FixedMat{T,Rows,Cols}(tuple($(rowexprs...)))\n",
    "    end\n",
    "end"
   ]
  },
  {
   "cell_type": "code",
   "execution_count": 25,
   "metadata": {},
   "outputs": [
    {
     "data": {
      "text/plain": [
       "1.0"
      ]
     },
     "execution_count": 25,
     "metadata": {},
     "output_type": "execute_result"
    }
   ],
   "source": [
    "FixedMat(((1.0,2.0),(3.0,4.0))).coefs[1][1]"
   ]
  },
  {
   "cell_type": "code",
   "execution_count": 28,
   "metadata": {},
   "outputs": [
    {
     "name": "stdout",
     "output_type": "stream",
     "text": [
      "Expr\n",
      "  head: Symbol tuple\n",
      "  args: Array{Any}((2,))\n",
      "    1: Expr\n",
      "      head: Symbol call\n",
      "      args: Array{Any}((3,))\n",
      "        1: Symbol *\n",
      "        2: Int64 3\n",
      "        3: Int64 4\n",
      "      typ: Any\n",
      "    2: Expr\n",
      "      head: Symbol call\n",
      "      args: Array{Any}((3,))\n",
      "        1: Symbol *\n",
      "        2: Int64 5\n",
      "        3: Int64 6\n",
      "      typ: Any\n",
      "  typ: Any\n"
     ]
    }
   ],
   "source": [
    "dump(:((3*4,5*6)))"
   ]
  },
  {
   "cell_type": "code",
   "execution_count": 29,
   "metadata": {},
   "outputs": [
    {
     "name": "stdout",
     "output_type": "stream",
     "text": [
      "Expr\n",
      "  head: Symbol call\n",
      "  args: Array{Any}((1,))\n",
      "    1: Symbol +\n",
      "  typ: Any\n"
     ]
    }
   ],
   "source": [
    "dump(:(+()))"
   ]
  },
  {
   "cell_type": "code",
   "execution_count": 40,
   "metadata": {},
   "outputs": [
    {
     "data": {
      "text/plain": [
       "FixedMat{Int64,3,3}(((2, 0, 0), (0, 2, 0), (0, 0, 2)))"
      ]
     },
     "execution_count": 40,
     "metadata": {},
     "output_type": "execute_result"
    }
   ],
   "source": [
    "A = FixedMat(((2,0,0),(0,2,0),(0,0,2)))"
   ]
  },
  {
   "cell_type": "code",
   "execution_count": 41,
   "metadata": {},
   "outputs": [
    {
     "data": {
      "text/plain": [
       "FixedMat{Int64,3,1}(((1,), (2,), (3,)))"
      ]
     },
     "execution_count": 41,
     "metadata": {},
     "output_type": "execute_result"
    }
   ],
   "source": [
    "b = FixedMat(((1,),(2,),(3,)))"
   ]
  },
  {
   "cell_type": "code",
   "execution_count": 42,
   "metadata": {},
   "outputs": [
    {
     "data": {
      "text/plain": [
       "FixedMat{Int64,3,1}(((2,), (4,), (6,)))"
      ]
     },
     "execution_count": 42,
     "metadata": {},
     "output_type": "execute_result"
    }
   ],
   "source": [
    "A*b"
   ]
  },
  {
   "cell_type": "code",
   "execution_count": 43,
   "metadata": {
    "collapsed": true
   },
   "outputs": [],
   "source": [
    "using BenchmarkTools"
   ]
  },
  {
   "cell_type": "code",
   "execution_count": 73,
   "metadata": {},
   "outputs": [
    {
     "name": "stdout",
     "output_type": "stream",
     "text": [
      "  6.295 ns (0 allocations: 0 bytes)\n"
     ]
    },
    {
     "data": {
      "text/plain": [
       "FixedMat{Int64,3,1}(((2,), (4,), (6,)))"
      ]
     },
     "execution_count": 73,
     "metadata": {},
     "output_type": "execute_result"
    }
   ],
   "source": [
    "@btime $A*$b"
   ]
  },
  {
   "cell_type": "code",
   "execution_count": 74,
   "metadata": {},
   "outputs": [
    {
     "name": "stdout",
     "output_type": "stream",
     "text": [
      "\t.section\t__TEXT,__text,regular,pure_instructions\n",
      "Filename: In[72]\n",
      "\tpushq\t%rbp\n",
      "\tmovq\t%rsp, %rbp\n",
      "Source line: 15\n",
      "\tmovq\t(%rdx), %r8\n",
      "\tmovq\t8(%rdx), %r11\n",
      "\tmovq\t(%rsi), %r9\n",
      "\timulq\t%r8, %r9\n",
      "\tmovq\t8(%rsi), %rcx\n",
      "\timulq\t%r11, %rcx\n",
      "\taddq\t%r9, %rcx\n",
      "\tmovq\t16(%rdx), %rdx\n",
      "\tmovq\t16(%rsi), %r9\n",
      "\timulq\t%rdx, %r9\n",
      "\taddq\t%rcx, %r9\n",
      "\tmovq\t24(%rsi), %r10\n",
      "\timulq\t%r8, %r10\n",
      "\tmovq\t32(%rsi), %rcx\n",
      "\timulq\t%r11, %rcx\n",
      "\taddq\t%r10, %rcx\n",
      "\tmovq\t40(%rsi), %rax\n",
      "\timulq\t%rdx, %rax\n",
      "\taddq\t%rcx, %rax\n",
      "\timulq\t48(%rsi), %r8\n",
      "\timulq\t56(%rsi), %r11\n",
      "\taddq\t%r8, %r11\n",
      "\timulq\t64(%rsi), %rdx\n",
      "\taddq\t%r11, %rdx\n",
      "Source line: 2\n",
      "\tmovq\t%r9, (%rdi)\n",
      "\tmovq\t%rax, 8(%rdi)\n",
      "\tmovq\t%rdx, 16(%rdi)\n",
      "\tmovq\t%rdi, %rax\n",
      "\tpopq\t%rbp\n",
      "\tretq\n",
      "\tnop\n"
     ]
    }
   ],
   "source": [
    "@code_native A*b"
   ]
  },
  {
   "cell_type": "code",
   "execution_count": 56,
   "metadata": {},
   "outputs": [
    {
     "ename": "LoadError",
     "evalue": "\u001b[91mInvalid matrix multiplication: FixedMat{Int64,3,1} ⋅ FixedMat{Int64,3,1}\u001b[39m",
     "output_type": "error",
     "traceback": [
      "\u001b[91mInvalid matrix multiplication: FixedMat{Int64,3,1} ⋅ FixedMat{Int64,3,1}\u001b[39m",
      "",
      "Stacktrace:",
      " [1] \u001b[1m*\u001b[22m\u001b[22m\u001b[1m(\u001b[22m\u001b[22m::FixedMat{Int64,3,1}, ::FixedMat{Int64,3,1}\u001b[1m)\u001b[22m\u001b[22m at \u001b[1m./In[6]:3\u001b[22m\u001b[22m"
     ]
    }
   ],
   "source": [
    "b*b"
   ]
  },
  {
   "cell_type": "code",
   "execution_count": 57,
   "metadata": {},
   "outputs": [
    {
     "data": {
      "text/plain": [
       "FixedMat{Int64,3,3}(((4, 0, 0), (0, 4, 0), (0, 0, 4)))"
      ]
     },
     "execution_count": 57,
     "metadata": {},
     "output_type": "execute_result"
    }
   ],
   "source": [
    "A*A"
   ]
  },
  {
   "cell_type": "markdown",
   "metadata": {},
   "source": [
    "Test with floating point values"
   ]
  },
  {
   "cell_type": "code",
   "execution_count": 65,
   "metadata": {},
   "outputs": [
    {
     "data": {
      "text/plain": [
       "FixedMat{Float64,3,1}(((1.0,), (2.0,), (3.0,)))"
      ]
     },
     "execution_count": 65,
     "metadata": {},
     "output_type": "execute_result"
    }
   ],
   "source": [
    "Af = FixedMat(((2.0,0.0,0.0),(0.0,2.0,0.0),(0.0,0.0,2.0)))\n",
    "bf = FixedMat(((1.0,),(2.0,),(3.0,)))"
   ]
  },
  {
   "cell_type": "code",
   "execution_count": 61,
   "metadata": {},
   "outputs": [
    {
     "data": {
      "text/plain": [
       "FixedMat{Float32,3,1}(((1.0f0,), (2.0f0,), (3.0f0,)))"
      ]
     },
     "execution_count": 61,
     "metadata": {},
     "output_type": "execute_result"
    }
   ],
   "source": [
    "_0 = Float32(0.0)\n",
    "_1 = Float32(1.0)\n",
    "_2 = Float32(2.0)\n",
    "_3 = Float32(3.0)\n",
    "Af = FixedMat(((_2,_0,_0),(_0,_2,_0),(_0,_0,_2)))\n",
    "bf = FixedMat(((_1,),(_2,),(_3,)))"
   ]
  },
  {
   "cell_type": "code",
   "execution_count": 63,
   "metadata": {},
   "outputs": [
    {
     "name": "stdout",
     "output_type": "stream",
     "text": [
      "  10.776 ns (0 allocations: 0 bytes)\n"
     ]
    },
    {
     "data": {
      "text/plain": [
       "FixedMat{Float32,3,1}(((2.0f0,), (4.0f0,), (6.0f0,)))"
      ]
     },
     "execution_count": 63,
     "metadata": {},
     "output_type": "execute_result"
    }
   ],
   "source": [
    "@btime $Af * $bf"
   ]
  },
  {
   "cell_type": "code",
   "execution_count": 75,
   "metadata": {},
   "outputs": [
    {
     "name": "stdout",
     "output_type": "stream",
     "text": [
      "\t.section\t__TEXT,__text,regular,pure_instructions\n",
      "Filename: In[72]\n",
      "\tpushq\t%rbp\n",
      "\tmovq\t%rsp, %rbp\n",
      "Source line: 15\n",
      "\tmovsd\t(%rdx), %xmm1           ## xmm1 = mem[0],zero\n",
      "\tmovsd\t8(%rdx), %xmm0          ## xmm0 = mem[0],zero\n",
      "\tmovsd\t(%rsi), %xmm2           ## xmm2 = mem[0],zero\n",
      "\tmulsd\t%xmm1, %xmm2\n",
      "\tmovsd\t8(%rsi), %xmm3          ## xmm3 = mem[0],zero\n",
      "\tmulsd\t%xmm0, %xmm3\n",
      "\taddsd\t%xmm2, %xmm3\n",
      "\tmovsd\t16(%rdx), %xmm2         ## xmm2 = mem[0],zero\n",
      "\tmovsd\t16(%rsi), %xmm4         ## xmm4 = mem[0],zero\n",
      "\tmulsd\t%xmm2, %xmm4\n",
      "\taddsd\t%xmm3, %xmm4\n",
      "\tmovsd\t24(%rsi), %xmm3         ## xmm3 = mem[0],zero\n",
      "\tmulsd\t%xmm1, %xmm3\n",
      "\tmovsd\t32(%rsi), %xmm5         ## xmm5 = mem[0],zero\n",
      "\tmulsd\t%xmm0, %xmm5\n",
      "\taddsd\t%xmm3, %xmm5\n",
      "\tmovsd\t40(%rsi), %xmm3         ## xmm3 = mem[0],zero\n",
      "\tmulsd\t%xmm2, %xmm3\n",
      "\taddsd\t%xmm5, %xmm3\n",
      "\tmulsd\t48(%rsi), %xmm1\n",
      "\tmulsd\t56(%rsi), %xmm0\n",
      "\taddsd\t%xmm1, %xmm0\n",
      "\tmulsd\t64(%rsi), %xmm2\n",
      "\taddsd\t%xmm0, %xmm2\n",
      "Source line: 2\n",
      "\tmovsd\t%xmm4, (%rdi)\n",
      "\tmovsd\t%xmm3, 8(%rdi)\n",
      "\tmovsd\t%xmm2, 16(%rdi)\n",
      "\tmovq\t%rdi, %rax\n",
      "\tpopq\t%rbp\n",
      "\tretq\n",
      "\tnopw\t%cs:(%rax,%rax)\n"
     ]
    }
   ],
   "source": [
    "@code_native Af * bf"
   ]
  },
  {
   "cell_type": "markdown",
   "metadata": {},
   "source": [
    "Compare with arrays:"
   ]
  },
  {
   "cell_type": "code",
   "execution_count": 48,
   "metadata": {},
   "outputs": [
    {
     "data": {
      "text/plain": [
       "3×3 Array{Int64,2}:\n",
       " 2  0  0\n",
       " 0  2  0\n",
       " 0  0  2"
      ]
     },
     "execution_count": 48,
     "metadata": {},
     "output_type": "execute_result"
    }
   ],
   "source": [
    "Aarr = [2 0 0; 0 2 0; 0 0 2]"
   ]
  },
  {
   "cell_type": "code",
   "execution_count": 49,
   "metadata": {},
   "outputs": [
    {
     "data": {
      "text/plain": [
       "3-element Array{Int64,1}:\n",
       " 1\n",
       " 2\n",
       " 3"
      ]
     },
     "execution_count": 49,
     "metadata": {},
     "output_type": "execute_result"
    }
   ],
   "source": [
    "barr = [1,2,3]"
   ]
  },
  {
   "cell_type": "code",
   "execution_count": 51,
   "metadata": {},
   "outputs": [
    {
     "name": "stdout",
     "output_type": "stream",
     "text": [
      "  67.268 ns (1 allocation: 112 bytes)\n"
     ]
    },
    {
     "data": {
      "text/plain": [
       "3-element Array{Int64,1}:\n",
       " 2\n",
       " 4\n",
       " 6"
      ]
     },
     "execution_count": 51,
     "metadata": {},
     "output_type": "execute_result"
    }
   ],
   "source": [
    "@btime $Aarr * $barr"
   ]
  },
  {
   "cell_type": "code",
   "execution_count": 55,
   "metadata": {},
   "outputs": [
    {
     "data": {
      "text/html": [
       "*<i>{T, S}</i>(A::<b>AbstractArray{T,2}</b>, x::<b>AbstractArray{S,1}</b>) at <a href=\"https://github.com/JuliaLang/julia/tree/903644385b91ed8d95e5e3a5716c089dd1f1b08a/base/linalg/matmul.jl#L78\" target=\"_blank\">linalg/matmul.jl:78</a>"
      ],
      "text/plain": [
       "*(A::AbstractArray{T,2}, x::AbstractArray{S,1}) where {T, S} in Base.LinAlg at linalg/matmul.jl:78"
      ]
     },
     "execution_count": 55,
     "metadata": {},
     "output_type": "execute_result"
    }
   ],
   "source": [
    "@which Aarr*barr"
   ]
  },
  {
   "cell_type": "code",
   "execution_count": 76,
   "metadata": {},
   "outputs": [
    {
     "data": {
      "text/plain": [
       "mulexpr (generic function with 1 method)"
      ]
     },
     "execution_count": 76,
     "metadata": {},
     "output_type": "execute_result"
    }
   ],
   "source": [
    "# Print out the code:\n",
    "function mulexpr(A::Type{FixedMat{T,Rows,N}}, B::Type{FixedMat{T,N,Cols}}) where {T,Rows,Cols,N}\n",
    "    rowexprs = Expr[]\n",
    "    for row in 1:Rows\n",
    "        rowex = :(()) # empty row tuple\n",
    "        for col in 1:Cols\n",
    "            elex = :(+()) # Each element is a sum\n",
    "            for i in 1:N\n",
    "                push!(elex.args, :(A.coefs[$row][$i]*B.coefs[$i][$col]))\n",
    "            end\n",
    "            push!(rowex.args, elex)\n",
    "        end\n",
    "        push!(rowexprs, rowex)\n",
    "    end\n",
    "    return quote # quote is a multi-line version of :() for expressions\n",
    "        return FixedMat{T,Rows,Cols}(tuple($(rowexprs...)))\n",
    "    end\n",
    "end"
   ]
  },
  {
   "cell_type": "code",
   "execution_count": 78,
   "metadata": {},
   "outputs": [
    {
     "data": {
      "text/plain": [
       "quote  # In[76], line 16:\n",
       "    return FixedMat{T, Rows, Cols}(tuple(((A.coefs[1])[1] * (B.coefs[1])[1] + (A.coefs[1])[2] * (B.coefs[2])[1] + (A.coefs[1])[3] * (B.coefs[3])[1],), ((A.coefs[2])[1] * (B.coefs[1])[1] + (A.coefs[2])[2] * (B.coefs[2])[1] + (A.coefs[2])[3] * (B.coefs[3])[1],), ((A.coefs[3])[1] * (B.coefs[1])[1] + (A.coefs[3])[2] * (B.coefs[2])[1] + (A.coefs[3])[3] * (B.coefs[3])[1],)))\n",
       "end"
      ]
     },
     "execution_count": 78,
     "metadata": {},
     "output_type": "execute_result"
    }
   ],
   "source": [
    "mulexpr(typeof(A), typeof(b))"
   ]
  },
  {
   "cell_type": "code",
   "execution_count": null,
   "metadata": {
    "collapsed": true
   },
   "outputs": [],
   "source": []
  }
 ],
 "metadata": {
  "kernelspec": {
   "display_name": "Julia 0.6.0",
   "language": "julia",
   "name": "julia-0.6"
  },
  "language_info": {
   "file_extension": ".jl",
   "mimetype": "application/julia",
   "name": "julia",
   "version": "0.6.0"
  },
  "toc": {
   "colors": {
    "hover_highlight": "#DAA520",
    "running_highlight": "#FF0000",
    "selected_highlight": "#FFD700"
   },
   "moveMenuLeft": true,
   "nav_menu": {
    "height": "66px",
    "width": "252px"
   },
   "navigate_menu": true,
   "number_sections": true,
   "sideBar": true,
   "threshold": "2",
   "toc_cell": false,
   "toc_section_display": "block",
   "toc_window_display": false
  }
 },
 "nbformat": 4,
 "nbformat_minor": 2
}
