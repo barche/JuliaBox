{
 "cells": [
  {
   "cell_type": "markdown",
   "metadata": {},
   "source": [
    "# `include` "
   ]
  },
  {
   "cell_type": "markdown",
   "metadata": {},
   "source": [
    "While the Jupyter notebook is a great tool for interactive development, it can become unwieldy once code becomes too long and you start jumping around reexecuting different cells.\n",
    "\n",
    "In this case, it is time to separate out code implementing the functions you will call into a file, probably leaving the calling of those functions and the manipulation of the resulting data in the notebook.\n",
    "\n",
    "The simplest way to do this is to literally extract the code for the functions from the notebook and insert it into a Julia script, i.e. a file ending in `.jl`. This code can then be *included* in the notebook (or in another file, etc.) using\n",
    "\n",
    "    include(\"code.jl\")\n",
    "    \n",
    "The result is the same as if you literally copied and pasted the code from the file straight at the point where the `include` function was called."
   ]
  },
  {
   "cell_type": "markdown",
   "metadata": {},
   "source": [
    "# Calling Julia scripts from the command line"
   ]
  },
  {
   "cell_type": "markdown",
   "metadata": {},
   "source": [
    "Julia scripts can be called from the command line simply as\n",
    "\n",
    "    > julia code.jl\n",
    "    \n",
    "Any arguments used (e.g. \n",
    "\n",
    "    > julia code.jl 1 2 3 hello\n",
    "\n",
    "are placed in a variable `ARGS`.\n",
    "\n",
    "[1] Write a script that prints out the arguments passed in. What type does `ARGS` have?\n",
    "\n",
    "[2] Modify the script to take two arguments, which will be converted into an integer and a float.\n",
    "To do so, check how many arguments are passed in and print out a message giving the syntax for calling the script.\n",
    "\n",
    "Note that if you want to call the script interactively from within a Julia session (instead of from the command line), you can just set `ARGS` by hand to specify the command line arguments."
   ]
  },
  {
   "cell_type": "markdown",
   "metadata": {
    "collapsed": true
   },
   "source": [
    "# Modules"
   ]
  },
  {
   "cell_type": "markdown",
   "metadata": {},
   "source": [
    "When we have developed functionality that we with to reuse in the future in other projects, we can make a Julia *module*, i.e. a library. Modules have the ability that they can (partially) hide implementation details from the user, by *export*ing only those functions that the author desires.\n",
    "\n",
    "The structure of a module is\n",
    "\n",
    "    module MyModule\n",
    "    \n",
    "    import Base: show\n",
    "    \n",
    "    export f\n",
    "    \n",
    "    \n",
    "    type MyType\n",
    "    end\n",
    "    \n",
    "    g(x::MyType) = x\n",
    "    f(x::MyType) = g(x)\n",
    "    \n",
    "    end\n",
    "    \n",
    "Functions from base Julia that you wish to extend to work with your own types are imported. Functions to export are also listed; here, only the function `f`, and not `g`, will appear in the namespace once the module is imported. Nonetheless, `g` is available as `MyModule.g`."
   ]
  },
  {
   "cell_type": "markdown",
   "metadata": {},
   "source": [
    "[1] Define a module for `Vector2D` that exports relevant functions. Put it in a file in the current directory. How can you load it with `using`?\n",
    "\n",
    "[2] If it is not in the current directory, Julia will still be able to find it if the directory is in the special variable called `LOAD_PATH`. Work out how to add a directory to `LOAD_PATH`. [If you wish to do this in every session, you can add this command to your `.juliarc.jl`.]"
   ]
  },
  {
   "cell_type": "markdown",
   "metadata": {},
   "source": [
    "NB: It is important to note that you cannot redefine types directly; it is necessary to use the `workspace()` function to \"clean\" the current namespace before trying to do `using MyModule` again."
   ]
  },
  {
   "cell_type": "markdown",
   "metadata": {},
   "source": [
    "It is common to split up the *implementation* of a module into separate files using `include` inside the module definition. Several modules may also be defined in the same file."
   ]
  },
  {
   "cell_type": "markdown",
   "metadata": {},
   "source": [
    "## Documentation "
   ]
  },
  {
   "cell_type": "markdown",
   "metadata": {},
   "source": [
    "As we all know, it is necessary to document your code for future readers (for example, yourself in a week's time).\n",
    "Julia includes documentation tools from v0.4 on.\n",
    "\n",
    "The syntax to document an object, for example a function, is"
   ]
  },
  {
   "cell_type": "code",
   "execution_count": 2,
   "metadata": {},
   "outputs": [
    {
     "data": {
      "text/plain": [
       "f"
      ]
     },
     "execution_count": 2,
     "metadata": {},
     "output_type": "execute_result"
    }
   ],
   "source": [
    "\"\"\"\n",
    "`square` calculates the square of its argument.\n",
    "\"\"\"\n",
    "f(x) = x^2"
   ]
  },
  {
   "cell_type": "markdown",
   "metadata": {},
   "source": [
    "We can use Markdown syntax."
   ]
  },
  {
   "cell_type": "code",
   "execution_count": 3,
   "metadata": {},
   "outputs": [
    {
     "name": "stdout",
     "output_type": "stream",
     "text": [
      "search: \u001b[1mf\u001b[22m\u001b[1mf\u001b[22m\u001b[1mt\u001b[22m \u001b[1mf\u001b[22m\u001b[1mf\u001b[22m\u001b[1mt\u001b[22m! \u001b[1mF\u001b[22m\u001b[1mF\u001b[22m\u001b[1mT\u001b[22mW \u001b[1mf\u001b[22m\u001b[1mf\u001b[22m\u001b[1mt\u001b[22mshift r\u001b[1mf\u001b[22m\u001b[1mf\u001b[22m\u001b[1mt\u001b[22m i\u001b[1mf\u001b[22m\u001b[1mf\u001b[22m\u001b[1mt\u001b[22m b\u001b[1mf\u001b[22m\u001b[1mf\u001b[22m\u001b[1mt\u001b[22m i\u001b[1mf\u001b[22m\u001b[1mf\u001b[22m\u001b[1mt\u001b[22m! b\u001b[1mf\u001b[22m\u001b[1mf\u001b[22m\u001b[1mt\u001b[22m! i\u001b[1mf\u001b[22m\u001b[1mf\u001b[22m\u001b[1mt\u001b[22mshift ir\u001b[1mf\u001b[22m\u001b[1mf\u001b[22m\u001b[1mt\u001b[22m br\u001b[1mf\u001b[22m\u001b[1mf\u001b[22m\u001b[1mt\u001b[22m\n",
      "\n"
     ]
    },
    {
     "data": {
      "text/markdown": [
       "```\n",
       "fft(A [, dims])\n",
       "```\n",
       "\n",
       "Performs a multidimensional FFT of the array `A`. The optional `dims` argument specifies an iterable subset of dimensions (e.g. an integer, range, tuple, or array) to transform along. Most efficient if the size of `A` along the transformed dimensions is a product of small primes; see `nextprod()`. See also `plan_fft()` for even greater efficiency.\n",
       "\n",
       "A one-dimensional FFT computes the one-dimensional discrete Fourier transform (DFT) as defined by\n",
       "\n",
       "$$\n",
       "\\operatorname{DFT}(A)[k] =\n",
       "  \\sum_{n=1}^{\\operatorname{length}(A)}\n",
       "  \\exp\\left(-i\\frac{2\\pi\n",
       "  (n-1)(k-1)}{\\operatorname{length}(A)} \\right) A[n].\n",
       "$$\n",
       "\n",
       "A multidimensional FFT simply performs this operation along each transformed dimension of `A`.\n",
       "\n",
       "!!! note\n",
       "      * Julia starts FFTW up with 1 thread by default. Higher performance is usually possible by increasing number of threads. Use `FFTW.set_num_threads(Sys.CPU_CORES)` to use as many threads as cores on your system.\n",
       "      * This performs a multidimensional FFT by default. FFT libraries in other languages such as Python and Octave perform a one-dimensional FFT along the first non-singleton dimension of the array. This is worth noting while performing comparisons. For more details, refer to the [Noteworthy Differences from other Languages](@ref) section of the manual.\n",
       "\n"
      ],
      "text/plain": [
       "```\n",
       "fft(A [, dims])\n",
       "```\n",
       "\n",
       "Performs a multidimensional FFT of the array `A`. The optional `dims` argument specifies an iterable subset of dimensions (e.g. an integer, range, tuple, or array) to transform along. Most efficient if the size of `A` along the transformed dimensions is a product of small primes; see `nextprod()`. See also `plan_fft()` for even greater efficiency.\n",
       "\n",
       "A one-dimensional FFT computes the one-dimensional discrete Fourier transform (DFT) as defined by\n",
       "\n",
       "$$\n",
       "\\operatorname{DFT}(A)[k] =\n",
       "  \\sum_{n=1}^{\\operatorname{length}(A)}\n",
       "  \\exp\\left(-i\\frac{2\\pi\n",
       "  (n-1)(k-1)}{\\operatorname{length}(A)} \\right) A[n].\n",
       "$$\n",
       "\n",
       "A multidimensional FFT simply performs this operation along each transformed dimension of `A`.\n",
       "\n",
       "!!! note\n",
       "      * Julia starts FFTW up with 1 thread by default. Higher performance is usually possible by increasing number of threads. Use `FFTW.set_num_threads(Sys.CPU_CORES)` to use as many threads as cores on your system.\n",
       "      * This performs a multidimensional FFT by default. FFT libraries in other languages such as Python and Octave perform a one-dimensional FFT along the first non-singleton dimension of the array. This is worth noting while performing comparisons. For more details, refer to the [Noteworthy Differences from other Languages](@ref) section of the manual.\n",
       "\n"
      ]
     },
     "execution_count": 3,
     "metadata": {},
     "output_type": "execute_result"
    }
   ],
   "source": [
    "?fft"
   ]
  },
  {
   "cell_type": "markdown",
   "metadata": {},
   "source": [
    "[1] Document your automatic differentation code."
   ]
  }
 ],
 "metadata": {
  "kernelspec": {
   "display_name": "Julia 0.6.0",
   "language": "julia",
   "name": "julia-0.6"
  },
  "language_info": {
   "file_extension": ".jl",
   "mimetype": "application/julia",
   "name": "julia",
   "version": "0.6.0"
  }
 },
 "nbformat": 4,
 "nbformat_minor": 1
}
