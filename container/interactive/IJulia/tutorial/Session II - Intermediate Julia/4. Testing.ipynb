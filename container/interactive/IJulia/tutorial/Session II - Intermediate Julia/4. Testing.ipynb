{
 "cells": [
  {
   "cell_type": "markdown",
   "metadata": {},
   "source": [
    "# Testing and exception handling"
   ]
  },
  {
   "cell_type": "markdown",
   "metadata": {},
   "source": [
    "The importance of testing has been recognised in software engineering for the last 20 years, but in many scientific computing contexts it has only recently been discovered.\n",
    "\n",
    "Julia has (at least) two commonly-used testing frameworks: `Base.Test` and the [`FactCheck.jl`](https://github.com/JuliaLang/FactCheck.jl) package. `Base.Test` is used for writing tests for base Julia, while `FactCheck.jl` is commonly recommended for new packages (and we second this recommendation)."
   ]
  },
  {
   "cell_type": "markdown",
   "metadata": {},
   "source": [
    "## `Base.Test`"
   ]
  },
  {
   "cell_type": "markdown",
   "metadata": {},
   "source": [
    "`Base.Test` is relatively basic: it provides a macro `@test`,  as well as several variants (use tab completion), that take an expression and test its value. For example:"
   ]
  },
  {
   "cell_type": "code",
   "execution_count": 1,
   "metadata": {
    "collapsed": true
   },
   "outputs": [],
   "source": [
    "using Base.Test"
   ]
  },
  {
   "cell_type": "code",
   "execution_count": 2,
   "metadata": {},
   "outputs": [
    {
     "data": {
      "text/plain": [
       "\u001b[1m\u001b[32mTest Passed\n",
       "\u001b[39m\u001b[22m"
      ]
     },
     "execution_count": 2,
     "metadata": {},
     "output_type": "execute_result"
    }
   ],
   "source": [
    "f(x) = x^2\n",
    "@test f(3) == 9"
   ]
  },
  {
   "cell_type": "markdown",
   "metadata": {},
   "source": [
    "[1] What happens if you write a test in which `f(3)` is compared with 10?\n",
    "\n",
    "It is common to put all the tests in a file called \"runtests.jl\" (or split them up into separate files and `include` those in `runtest.jl`).\n",
    "\n",
    "[2] Design tests for the `Vector2D` and `AutoDiff` types and associated functions."
   ]
  },
  {
   "cell_type": "markdown",
   "metadata": {},
   "source": [
    "## `FactCheck.jl`"
   ]
  },
  {
   "cell_type": "markdown",
   "metadata": {},
   "source": [
    "One of the problems with `Base.Test` is that it stops as soon as the first failing test is found. It is often more useful to run the tests and have a record of which passed, or at least which failed. The `FactCheck.jl` package provides this:"
   ]
  },
  {
   "cell_type": "code",
   "execution_count": 3,
   "metadata": {},
   "outputs": [
    {
     "name": "stderr",
     "output_type": "stream",
     "text": [
      "\u001b[1m\u001b[36mINFO: \u001b[39m\u001b[22m\u001b[36mPackage FactCheck is already installed\n",
      "\u001b[39m\u001b[1m\u001b[36mINFO: \u001b[39m\u001b[22m\u001b[36mMETADATA is out-of-date — you may not have the latest version of FactCheck\n",
      "\u001b[39m\u001b[1m\u001b[36mINFO: \u001b[39m\u001b[22m\u001b[36mUse `Pkg.update()` to get the latest versions of your packages\n",
      "\u001b[39m\n",
      "WARNING: deprecated syntax \"abstract Result\" at /Users/ben/.julia/v0.6/FactCheck/src/FactCheck.jl:46.\n",
      "Use \"abstract type Result end\" instead.\n"
     ]
    }
   ],
   "source": [
    "Pkg.add(\"FactCheck\")\n",
    "using FactCheck"
   ]
  },
  {
   "cell_type": "code",
   "execution_count": 4,
   "metadata": {},
   "outputs": [
    {
     "name": "stdout",
     "output_type": "stream",
     "text": [
      "\u001b[1mTests of f\n",
      "\u001b[22m\u001b[22m\u001b[32m1 fact verified.\n",
      "\u001b[39m"
     ]
    },
    {
     "data": {
      "text/plain": [
       "(::delayed_handler) (generic function with 4 methods)"
      ]
     },
     "execution_count": 4,
     "metadata": {},
     "output_type": "execute_result"
    }
   ],
   "source": [
    "facts(\"Tests of f\") do\n",
    "    @fact f(3) --> 9\n",
    "end"
   ]
  },
  {
   "cell_type": "markdown",
   "metadata": {},
   "source": [
    "[This uses the `do...end` syntax, which passes the code between `do` and `end` as an anonymous function as the first argument of the function `facts` (in this case).]\n",
    "\n",
    "[1] Add some more passing and failing tests both to the `Base.Test` and `FactCheck.jl` versions. What happens?\n",
    "\n",
    "[2] Write tests using `FactCheck` for `Vector2D` and `AutoDiff`. You can also use `context(\"...\") do...end` for finer control over the output."
   ]
  },
  {
   "cell_type": "markdown",
   "metadata": {},
   "source": [
    "The tests of an installed package may be run using `Pkg.test(\"Distributions\")`."
   ]
  },
  {
   "cell_type": "markdown",
   "metadata": {},
   "source": [
    "# Exception handling "
   ]
  },
  {
   "cell_type": "markdown",
   "metadata": {},
   "source": [
    "Exceptions occur when an \"unusual\" condition occurs in your code, for example:"
   ]
  },
  {
   "cell_type": "code",
   "execution_count": 5,
   "metadata": {},
   "outputs": [
    {
     "ename": "LoadError",
     "evalue": "DomainError:\nsqrt will only return a complex result if called with a complex argument. Try sqrt(complex(x)).",
     "output_type": "error",
     "traceback": [
      "DomainError:\nsqrt will only return a complex result if called with a complex argument. Try sqrt(complex(x)).",
      "",
      "Stacktrace:",
      " [1] \u001b[1msqrt\u001b[22m\u001b[22m\u001b[1m(\u001b[22m\u001b[22m::Int64\u001b[1m)\u001b[22m\u001b[22m at \u001b[1m./math.jl:434\u001b[22m\u001b[22m"
     ]
    }
   ],
   "source": [
    "sqrt(-10)"
   ]
  },
  {
   "cell_type": "code",
   "execution_count": 6,
   "metadata": {},
   "outputs": [
    {
     "ename": "LoadError",
     "evalue": "\u001b[91mInexactError()\u001b[39m",
     "output_type": "error",
     "traceback": [
      "\u001b[91mInexactError()\u001b[39m",
      "",
      "Stacktrace:",
      " [1] \u001b[1mconvert\u001b[22m\u001b[22m\u001b[1m(\u001b[22m\u001b[22m::Type{Int64}, ::Float64\u001b[1m)\u001b[22m\u001b[22m at \u001b[1m./float.jl:679\u001b[22m\u001b[22m",
      " [2] \u001b[1msetindex!\u001b[22m\u001b[22m\u001b[1m(\u001b[22m\u001b[22m::Array{Int64,1}, ::Float64, ::Int64\u001b[1m)\u001b[22m\u001b[22m at \u001b[1m./array.jl:549\u001b[22m\u001b[22m"
     ]
    }
   ],
   "source": [
    "x = [3, 4]\n",
    "x[1] = 3.5"
   ]
  },
  {
   "cell_type": "markdown",
   "metadata": {},
   "source": [
    "[1] Find the \"parent\" type of these two types using the `super` function."
   ]
  },
  {
   "cell_type": "markdown",
   "metadata": {},
   "source": [
    "We can tell when exceptions have occured using `try...catch`:\n",
    "\n",
    "    try \n",
    "        <CODE TO TRY>\n",
    "        <MORE CODE TO TRY>\n",
    "    \n",
    "    catch <EXCEPTION>\n",
    "    \n",
    "        <WHAT TO DO IF THE EXCEPTION WAS CAUGHT>\n",
    "    \n",
    "    end\n",
    "    \n",
    "    \n",
    "We can also use `throw()` to generate an exception."
   ]
  },
  {
   "cell_type": "markdown",
   "metadata": {},
   "source": [
    "[1] Make a version of `sqrt` that works for positive and negative real arguments. [NB: The result will *not* be type stable.]\n",
    "\n",
    "[2] Define an interval type that represents an interval of real numbers. Define a version of square root that accepts an interval and returns a new interval that represents the possible square roots of all the values in the interval, if all the numbers in the interval are positive; it throws one type of exception if the argument intersects the positive numbers, and it throws a different exception if the interval is completely negative. [You may define new types of exception using `type MyException <: Exception end`.]"
   ]
  }
 ],
 "metadata": {
  "kernelspec": {
   "display_name": "Julia 0.6.0",
   "language": "julia",
   "name": "julia-0.6"
  },
  "language_info": {
   "file_extension": ".jl",
   "mimetype": "application/julia",
   "name": "julia",
   "version": "0.6.0"
  }
 },
 "nbformat": 4,
 "nbformat_minor": 1
}
